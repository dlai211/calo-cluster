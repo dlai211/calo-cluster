{
 "cells": [
  {
   "cell_type": "code",
   "execution_count": 77,
   "metadata": {},
   "outputs": [],
   "source": [
    "import numpy as np\n",
    "from matplotlib import pyplot as plt\n",
    "import plotly\n",
    "from pathlib import Path"
   ]
  },
  {
   "cell_type": "code",
   "execution_count": 83,
   "metadata": {},
   "outputs": [],
   "source": [
    "class Event():\n",
    "    def __init__(self, input_path, prediction_path):\n",
    "        self.input_path = input_path\n",
    "        self.prediction_path = prediction_path\n",
    "        self._load()\n",
    "        \n",
    "    def _load(self):\n",
    "        input_event = np.load(self.input_path)\n",
    "        event_prediction = np.load(self.prediction_path)\n",
    "        self.labels = event_prediction['labels']\n",
    "        self.prediction_probs = event_prediction['prediction']\n",
    "        self.predictions = self.prediction_probs.argmax(axis=1)\n",
    "        self.inds = event_prediction['inds']\n",
    "        self.x = input_event['x'][self.inds]"
   ]
  },
  {
   "cell_type": "code",
   "execution_count": 79,
   "metadata": {},
   "outputs": [],
   "source": [
    "wandb_id = '20200820173002'\n",
    "wandb_project = 'hgcal-spvcnn'\n",
    "wandb_entity = 'uw-hgcal'"
   ]
  },
  {
   "cell_type": "code",
   "execution_count": 80,
   "metadata": {},
   "outputs": [],
   "source": [
    "input_dir = Path('/global/cscratch1/sd/schuya/hgcal-dev/data/hgcal/rawpointclouds')\n",
    "prediction_dir = Path('/global/cscratch1/sd/schuya/hgcal-dev/predictions/20200820173002')"
   ]
  },
  {
   "cell_type": "code",
   "execution_count": 81,
   "metadata": {},
   "outputs": [],
   "source": [
    "event_names = [a.name for a in sorted(prediction_dir.glob('*.npz'))]"
   ]
  },
  {
   "cell_type": "code",
   "execution_count": 84,
   "metadata": {},
   "outputs": [],
   "source": [
    "events = [Event(input_dir / e, prediction_dir / e) for e in event_names]"
   ]
  },
  {
   "cell_type": "code",
   "execution_count": 96,
   "metadata": {},
   "outputs": [],
   "source": [
    "all_predictions = np.concatenate([e.predictions for e in events])\n",
    "all_labels = np.concatenate([e.labels for e in events])"
   ]
  },
  {
   "cell_type": "code",
   "execution_count": 98,
   "metadata": {},
   "outputs": [
    {
     "data": {
      "text/plain": [
       "(array([0, 1, 2, 3]), array([19190395,   400324,   432756,     8980]))"
      ]
     },
     "execution_count": 98,
     "metadata": {},
     "output_type": "execute_result"
    }
   ],
   "source": [
    "np.unique(all_predictions, return_counts=True)"
   ]
  },
  {
   "cell_type": "code",
   "execution_count": 99,
   "metadata": {},
   "outputs": [
    {
     "data": {
      "text/plain": [
       "(array([0, 1, 2, 3]), array([19149469,   437306,   436419,     9261]))"
      ]
     },
     "execution_count": 99,
     "metadata": {},
     "output_type": "execute_result"
    }
   ],
   "source": [
    "np.unique(all_labels, return_counts=True)"
   ]
  },
  {
   "cell_type": "code",
   "execution_count": 101,
   "metadata": {},
   "outputs": [],
   "source": [
    "from sklearn.metrics import confusion_matrix"
   ]
  },
  {
   "cell_type": "markdown",
   "metadata": {},
   "source": [
    "rows = true, cols = pred"
   ]
  },
  {
   "cell_type": "code",
   "execution_count": 103,
   "metadata": {},
   "outputs": [],
   "source": [
    "conf_mat = confusion_matrix(all_labels, all_predictions)"
   ]
  },
  {
   "cell_type": "code",
   "execution_count": 110,
   "metadata": {},
   "outputs": [],
   "source": [
    "norm_conf_mat = confusion_matrix(all_labels, all_predictions, normalize='true')"
   ]
  },
  {
   "cell_type": "code",
   "execution_count": 109,
   "metadata": {},
   "outputs": [
    {
     "data": {
      "text/plain": [
       "array([[19097503,    23330,    28359,      277],\n",
       "       [   44888,   344234,    47681,      503],\n",
       "       [   47502,    32199,   356709,        9],\n",
       "       [     502,      561,        7,     8191]])"
      ]
     },
     "execution_count": 109,
     "metadata": {},
     "output_type": "execute_result"
    }
   ],
   "source": [
    "conf_mat"
   ]
  },
  {
   "cell_type": "code",
   "execution_count": 111,
   "metadata": {},
   "outputs": [
    {
     "data": {
      "text/plain": [
       "array([[9.97286296e-01, 1.21831054e-03, 1.48092879e-03, 1.44651531e-05],\n",
       "       [1.02646659e-01, 7.87169625e-01, 1.09033491e-01, 1.15022433e-03],\n",
       "       [1.08844940e-01, 7.37800142e-02, 8.17354423e-01, 2.06223835e-05],\n",
       "       [5.42058093e-02, 6.05766116e-02, 7.55857899e-04, 8.84461721e-01]])"
      ]
     },
     "execution_count": 111,
     "metadata": {},
     "output_type": "execute_result"
    }
   ],
   "source": [
    "norm_conf_mat"
   ]
  },
  {
   "cell_type": "code",
   "execution_count": 116,
   "metadata": {},
   "outputs": [],
   "source": [
    "np.set_printoptions(precision=2, suppress=True)"
   ]
  },
  {
   "cell_type": "code",
   "execution_count": 117,
   "metadata": {},
   "outputs": [
    {
     "data": {
      "text/plain": [
       "array([[1.  , 0.  , 0.  , 0.  ],\n",
       "       [0.1 , 0.79, 0.11, 0.  ],\n",
       "       [0.11, 0.07, 0.82, 0.  ],\n",
       "       [0.05, 0.06, 0.  , 0.88]])"
      ]
     },
     "execution_count": 117,
     "metadata": {},
     "output_type": "execute_result"
    }
   ],
   "source": [
    "norm_conf_mat"
   ]
  },
  {
   "cell_type": "code",
   "execution_count": null,
   "metadata": {},
   "outputs": [],
   "source": []
  }
 ],
 "metadata": {
  "kernelspec": {
   "display_name": "pytorch-v1.5.0-gpu",
   "language": "python",
   "name": "pytorch-v1.5.0-gpu"
  },
  "language_info": {
   "codemirror_mode": {
    "name": "ipython",
    "version": 3
   },
   "file_extension": ".py",
   "mimetype": "text/x-python",
   "name": "python",
   "nbconvert_exporter": "python",
   "pygments_lexer": "ipython3",
   "version": "3.7.7"
  }
 },
 "nbformat": 4,
 "nbformat_minor": 4
}
