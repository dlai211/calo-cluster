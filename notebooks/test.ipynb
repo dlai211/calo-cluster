{
 "metadata": {
  "language_info": {
   "codemirror_mode": {
    "name": "ipython",
    "version": 3
   },
   "file_extension": ".py",
   "mimetype": "text/x-python",
   "name": "python",
   "nbconvert_exporter": "python",
   "pygments_lexer": "ipython3",
   "version": 3
  },
  "orig_nbformat": 2
 },
 "nbformat": 4,
 "nbformat_minor": 2,
 "cells": [
  {
   "cell_type": "code",
   "execution_count": null,
   "metadata": {},
   "outputs": [],
   "source": [
    "from hgcal_dev.datasets.vertex import VertexDataModule\n",
    "import numpy as np\n",
    "import pandas as pd\n",
    "import torch\n",
    "import plotly\n",
    "import plotly.express as px\n",
    "from pathlib import Path\n",
    "from hdbscan import HDBSCAN\n",
    "from hgcal_dev.metrics.instance import match_instances\n",
    "from tqdm import tqdm\n",
    "from sklearn.manifold import TSNE\n",
    "from omegaconf import OmegaConf\n",
    "import hydra\n",
    "from hydra.experimental import initialize, compose"
   ]
  },
  {
   "cell_type": "code",
   "execution_count": null,
   "metadata": {},
   "outputs": [],
   "source": []
  }
 ]
}