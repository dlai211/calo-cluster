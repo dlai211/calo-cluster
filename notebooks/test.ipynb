{
 "metadata": {
  "language_info": {
   "codemirror_mode": {
    "name": "ipython",
    "version": 3
   },
   "file_extension": ".py",
   "mimetype": "text/x-python",
   "name": "python",
   "nbconvert_exporter": "python",
   "pygments_lexer": "ipython3",
   "version": "3.8.5-final"
  },
  "orig_nbformat": 2,
  "kernelspec": {
   "name": "python3",
   "display_name": "Python 3.8.5 64-bit ('hgcal_dev': conda)",
   "metadata": {
    "interpreter": {
     "hash": "cb9f4ee5f483ad69f0f0fc0cffdef4872b01483cf3cd2db0fb5ca4081494e515"
    }
   }
  }
 },
 "nbformat": 4,
 "nbformat_minor": 2,
 "cells": [
  {
   "cell_type": "code",
   "execution_count": 4,
   "metadata": {},
   "outputs": [],
   "source": [
    "import sys\n",
    "sys.path.append('/home/alexj/hgcal-dev')"
   ]
  },
  {
   "cell_type": "code",
   "execution_count": 10,
   "metadata": {},
   "outputs": [],
   "source": [
    "from pathlib import Path\n",
    "import pandas as pd\n",
    "import numpy as np\n",
    "import torch"
   ]
  },
  {
   "cell_type": "code",
   "execution_count": 1,
   "metadata": {},
   "outputs": [],
   "source": [
    "import wandb"
   ]
  },
  {
   "cell_type": "code",
   "execution_count": 2,
   "metadata": {},
   "outputs": [],
   "source": [
    "api = wandb.Api()"
   ]
  },
  {
   "source": [
    "run = api.run('uw-hgcal/hgcal-spvcnn/2tp2l5gx')"
   ],
   "cell_type": "code",
   "metadata": {},
   "execution_count": 3,
   "outputs": []
  },
  {
   "cell_type": "code",
   "execution_count": 10,
   "metadata": {},
   "outputs": [
    {
     "output_type": "execute_result",
     "data": {
      "text/plain": [
       "<_io.TextIOWrapper name='./hgcal-spvcnn/2tp2l5gx/checkpoints/epoch=14.ckpt' mode='r' encoding='UTF-8'>"
      ]
     },
     "metadata": {},
     "execution_count": 10
    }
   ],
   "source": [
    "run.file('hgcal-spvcnn/2tp2l5gx/checkpoints/epoch=14.ckpt').download()"
   ]
  },
  {
   "cell_type": "code",
   "execution_count": 11,
   "metadata": {},
   "outputs": [
    {
     "output_type": "execute_result",
     "data": {
      "text/plain": [
       "<Files uw-hgcal/hgcal-spvcnn/2tp2l5gx (9)>"
      ]
     },
     "metadata": {},
     "execution_count": 11
    }
   ],
   "source": [
    "run.files()"
   ]
  },
  {
   "cell_type": "code",
   "execution_count": 2,
   "metadata": {},
   "outputs": [],
   "source": [
    "from hgcal_dev.utils.experiment import Experiment"
   ]
  },
  {
   "cell_type": "code",
   "execution_count": 3,
   "metadata": {},
   "outputs": [
    {
     "output_type": "stream",
     "name": "stderr",
     "text": [
      "Failed to query for notebook name, you can set it manually with the WANDB_NOTEBOOK_NAME environment variable\n",
      "\u001b[34m\u001b[1mwandb\u001b[0m: Currently logged in as: \u001b[33malexschuy\u001b[0m (use `wandb login --relogin` to force relogin)\n",
      "\u001b[34m\u001b[1mwandb\u001b[0m: wandb version 0.10.14 is available!  To upgrade, please run:\n",
      "\u001b[34m\u001b[1mwandb\u001b[0m:  $ pip install wandb --upgrade\n"
     ]
    },
    {
     "output_type": "display_data",
     "data": {
      "text/plain": "<IPython.core.display.HTML object>",
      "text/html": "\n                Tracking run with wandb version 0.10.8<br/>\n                Resuming run <strong style=\"color:#cdcd00\">panoptic_hgcal</strong> to <a href=\"https://wandb.ai\" target=\"_blank\">Weights & Biases</a> <a href=\"https://docs.wandb.com/integrations/jupyter.html\" target=\"_blank\">(Documentation)</a>.<br/>\n                Project page: <a href=\"https://wandb.ai/uw-hgcal/hgcal-spvcnn\" target=\"_blank\">https://wandb.ai/uw-hgcal/hgcal-spvcnn</a><br/>\n                Run page: <a href=\"https://wandb.ai/uw-hgcal/hgcal-spvcnn/runs/2bhsqvop\" target=\"_blank\">https://wandb.ai/uw-hgcal/hgcal-spvcnn/runs/2bhsqvop</a><br/>\n                Run data is saved locally in <code>wandb/run-20210120_192324-2bhsqvop</code><br/><br/>\n            "
     },
     "metadata": {}
    }
   ],
   "source": [
    "run_path = Path('/home/alexj/outputs/wandb/run-20210119_182022-2bhsqvop')\n",
    "ckpt_path = Path('/home/alexj/outputs/wandb/latest-run/files/hgcal-spvcnn/2bhsqvop/checkpoints/epoch=14.ckpt')\n",
    "experiment = Experiment(run_path, ckpt_path)"
   ]
  },
  {
   "cell_type": "code",
   "execution_count": 5,
   "metadata": {},
   "outputs": [],
   "source": [
    "model = experiment.model\n",
    "datamodule = experiment.datamodule\n",
    "model.cuda(0)\n",
    "model.eval()\n",
    "datamodule.batch_size = 1\n",
    "datamodule.prepare_data()\n",
    "datamodule.setup(stage='fit')"
   ]
  },
  {
   "cell_type": "code",
   "execution_count": 6,
   "metadata": {},
   "outputs": [],
   "source": [
    "dataloader = datamodule.val_dataloader()\n",
    "dataset = dataloader.dataset\n"
   ]
  },
  {
   "cell_type": "code",
   "execution_count": 7,
   "metadata": {},
   "outputs": [],
   "source": [
    "def get_event(i):\n",
    "    dataloader = datamodule.val_dataloader()\n",
    "    dataset = dataloader.dataset\n",
    "    raw_event = np.load(dataset.events[i])\n",
    "    return dataset[i], raw_event"
   ]
  },
  {
   "cell_type": "code",
   "execution_count": 91,
   "metadata": {},
   "outputs": [],
   "source": [
    "batch, raw = get_event(0)"
   ]
  },
  {
   "cell_type": "code",
   "execution_count": 92,
   "metadata": {},
   "outputs": [],
   "source": [
    "features = batch['features']\n",
    "features.C = torch.tensor(features.C)\n",
    "features.F = torch.tensor(features.F)"
   ]
  },
  {
   "cell_type": "code",
   "execution_count": 93,
   "metadata": {},
   "outputs": [],
   "source": [
    "\n",
    "features = batch['features'].to(model.device)\n",
    "class_prediction, embed_prediction = model(features)"
   ]
  },
  {
   "cell_type": "code",
   "execution_count": 94,
   "metadata": {},
   "outputs": [
    {
     "output_type": "execute_result",
     "data": {
      "text/plain": [
       "tensor([[-0.6026, -0.2733,  0.2126, -1.6268],\n",
       "        [ 1.9507, -0.7544, -2.1751, -4.2910],\n",
       "        [-0.3824,  0.2650, -0.8349, -0.7370],\n",
       "        ...,\n",
       "        [ 2.5427, -1.2317, -2.3116, -5.4669],\n",
       "        [ 2.7060, -1.3893, -2.4958, -5.9926],\n",
       "        [ 1.9360, -0.7593, -2.1121, -3.6693]], device='cuda:0',\n",
       "       grad_fn=<AddmmBackward>)"
      ]
     },
     "metadata": {},
     "execution_count": 94
    }
   ],
   "source": [
    "class_prediction"
   ]
  },
  {
   "cell_type": "code",
   "execution_count": 95,
   "metadata": {},
   "outputs": [],
   "source": [
    "class_prediction = torch.argmax(class_prediction, dim=1)"
   ]
  },
  {
   "cell_type": "code",
   "execution_count": 96,
   "metadata": {},
   "outputs": [
    {
     "output_type": "execute_result",
     "data": {
      "text/plain": [
       "tensor([2, 0, 1,  ..., 0, 0, 0], device='cuda:0')"
      ]
     },
     "metadata": {},
     "execution_count": 96
    }
   ],
   "source": [
    "class_prediction"
   ]
  },
  {
   "cell_type": "code",
   "execution_count": 97,
   "metadata": {},
   "outputs": [
    {
     "output_type": "execute_result",
     "data": {
      "text/plain": [
       "(tensor([0, 1, 2], device='cuda:0'),\n",
       " tensor([  252, 19392,   655], device='cuda:0'))"
      ]
     },
     "metadata": {},
     "execution_count": 97
    }
   ],
   "source": [
    "torch.unique(class_prediction, return_counts=True)"
   ]
  },
  {
   "cell_type": "code",
   "execution_count": 98,
   "metadata": {},
   "outputs": [],
   "source": [
    "raw_x, raw_labels = raw['x'], raw['y']"
   ]
  },
  {
   "cell_type": "code",
   "execution_count": 101,
   "metadata": {},
   "outputs": [],
   "source": [
    "full_class_prediction = class_prediction.cpu().numpy()[batch['inverse_map'].F]"
   ]
  },
  {
   "cell_type": "code",
   "execution_count": 103,
   "metadata": {},
   "outputs": [
    {
     "output_type": "execute_result",
     "data": {
      "text/plain": [
       "0.03347179289026275"
      ]
     },
     "metadata": {},
     "execution_count": 103
    }
   ],
   "source": [
    "(raw_labels[:, 0] == full_class_prediction).sum() / full_class_prediction.shape[0]"
   ]
  },
  {
   "cell_type": "code",
   "execution_count": 14,
   "metadata": {},
   "outputs": [
    {
     "output_type": "stream",
     "name": "stderr",
     "text": [
      "985it [01:17, 12.71it/s]\n"
     ]
    }
   ],
   "source": [
    "dataloader = datamodule.val_dataloader()\n",
    "class_predictions = []\n",
    "embed_predictions = []\n",
    "targets = []\n",
    "with torch.no_grad():\n",
    "        for i, (batch, event_path) in tqdm(enumerate(zip(dataloader, dataloader.dataset.events))):\n",
    "            features = batch['features'].to(model.device)\n",
    "            labels = batch['labels'].to(model.device)\n",
    "            targets.append(labels)\n",
    "            class_prediction, embed_prediction = model(features)\n",
    "            class_prediction = torch.argmax(class_prediction, dim=1)\n",
    "            class_predictions.append(class_prediction.cpu())\n",
    "            embed_predictions.append(embed_prediction.cpu())"
   ]
  },
  {
   "cell_type": "code",
   "execution_count": null,
   "metadata": {},
   "outputs": [],
   "source": [
    "targets = []\n",
    "with torch.no_grad():\n",
    "        for i, (batch, event_path) in tqdm(enumerate(zip(dataloader, dataloader.dataset.events))):\n",
    "            features = batch['features'].to(model.device)\n",
    "            labels = batch['labels'].to(model.device)\n",
    "            class_prediction, embed_prediction = model(features)\n",
    "            class_predictions.append(class_prediction.cpu())\n",
    "            embed_predictions.append(embed_prediction.cpu())"
   ]
  },
  {
   "cell_type": "code",
   "execution_count": 8,
   "metadata": {},
   "outputs": [],
   "source": [
    "from hgcal_dev.clustering.mean_shift_cosine_gpu import MeanShiftCosine"
   ]
  },
  {
   "cell_type": "code",
   "execution_count": 9,
   "metadata": {},
   "outputs": [],
   "source": [
    "clusterer = MeanShiftCosine()\n"
   ]
  },
  {
   "cell_type": "code",
   "execution_count": 11,
   "metadata": {},
   "outputs": [
    {
     "output_type": "stream",
     "name": "stderr",
     "text": [
      "100%|██████████| 985/985 [02:14<00:00,  7.34it/s]\n"
     ]
    }
   ],
   "source": [
    "instance_predictions = []\n",
    "for embed in tqdm(embed_predictions):\n",
    "    clusterer.fit(embed)\n",
    "    instance_predictions.append(clusterer.labels_)"
   ]
  },
  {
   "cell_type": "code",
   "execution_count": 12,
   "metadata": {},
   "outputs": [],
   "source": [
    "from hgcal_dev.metrics.instance import PanopticQuality"
   ]
  },
  {
   "cell_type": "code",
   "execution_count": 13,
   "metadata": {},
   "outputs": [],
   "source": [
    "metric = PanopticQuality(num_classes=2, ignore_index=-1, min_points=1)"
   ]
  },
  {
   "cell_type": "code",
   "execution_count": 15,
   "metadata": {},
   "outputs": [],
   "source": [
    "import torch"
   ]
  },
  {
   "cell_type": "code",
   "execution_count": null,
   "metadata": {},
   "outputs": [],
   "source": []
  },
  {
   "cell_type": "code",
   "execution_count": 17,
   "metadata": {},
   "outputs": [
    {
     "output_type": "execute_result",
     "data": {
      "text/plain": [
       "array([0, 0, 0, 2, 2, 0, 0, 2, 0, 2, 1, 0, 0, 0, 0, 2, 2, 0, 0, 0, 0, 0,\n",
       "       0, 2, 0, 2, 2, 2, 0, 0, 0, 2, 2, 0, 0, 0, 0, 2, 0, 0, 2, 0, 0, 0,\n",
       "       0, 2, 0, 0, 2, 0, 2, 0, 0, 2, 0, 2, 0, 0, 2, 2, 2, 0, 0, 0, 0, 2,\n",
       "       0, 2, 2, 0, 0, 0, 0, 0, 0, 2, 2, 2, 0, 2, 2, 2, 0, 0, 2, 2, 0, 0,\n",
       "       0, 0, 0, 0, 0, 0, 0, 2, 0, 2, 2, 0, 2, 2, 2, 2, 2, 0, 0, 0, 2, 0,\n",
       "       0, 0, 2, 0, 2, 2, 2, 0, 0, 0, 0, 0, 1, 0, 0, 0, 2, 2, 2, 0, 2, 2,\n",
       "       2, 0, 0, 2, 2, 2, 2, 2, 0, 0, 0, 0, 2, 1, 0, 1, 1, 2, 0, 2, 0, 0,\n",
       "       0, 0, 2, 0, 0, 2, 0, 0, 2, 2, 0, 2, 0, 2, 2, 0, 1, 0, 0, 1, 0, 0,\n",
       "       0, 4, 0, 4, 0, 0, 0, 2, 0, 0, 0, 0, 0, 0, 0, 0, 2, 1, 0, 1, 1, 0,\n",
       "       0, 1, 0, 1, 4, 0, 4, 2, 0, 0, 2, 0, 2, 2, 2, 0, 0, 2, 2, 0, 2, 2,\n",
       "       2, 0, 1, 1, 1, 0, 0, 0, 1, 0, 2, 2, 0, 0, 0, 0, 2, 1, 1, 1, 1, 0,\n",
       "       0, 0, 0, 0, 2, 2, 2, 0, 0, 0, 2, 0, 2, 2, 0, 0, 1, 1, 0, 4, 4, 2,\n",
       "       0, 0, 0, 0, 0, 2, 2, 2, 0, 0, 2, 2, 0, 0, 2, 2, 2, 0, 0, 0, 1, 0,\n",
       "       0, 0, 1, 0, 1, 0, 1, 4, 4, 0, 2, 2, 0, 0, 0, 0, 0, 2, 0, 2, 2, 2,\n",
       "       1, 0, 0, 0, 1, 1, 0, 4, 0, 2, 2, 2, 2, 2, 2, 2, 4, 1, 2, 1, 1, 1,\n",
       "       1, 1, 0, 0, 0, 0, 0, 0, 0, 2, 2, 2, 2, 0, 5, 2, 2, 2, 2, 2, 4, 1,\n",
       "       1, 1, 1, 1, 1, 1, 1, 1, 1, 1, 1, 1, 1, 0, 0, 0, 0, 0, 2, 2, 0, 0,\n",
       "       2, 2, 0, 0, 0, 0, 2, 0, 5, 2, 2, 2, 2, 2, 2, 2, 4, 4, 1, 1, 1, 1,\n",
       "       1, 1, 4, 1, 1, 0, 1, 1, 1, 4, 0, 1, 1, 0, 1, 1, 1, 0, 1, 0, 0, 0,\n",
       "       4, 2, 2, 2, 2, 1, 0, 1, 1, 4, 1, 1, 1, 1, 1, 4, 1, 1, 1, 1, 1, 1,\n",
       "       1, 1, 0, 0, 0, 2, 0, 0, 0, 2, 2, 2, 0, 0, 2, 0, 5, 2, 2, 1, 1, 1,\n",
       "       1, 1, 1, 1, 4, 1, 1, 4, 1, 0, 1, 0, 1, 1, 0, 0, 0, 4, 0, 2, 0, 2,\n",
       "       0, 2, 0, 0, 0, 5, 4, 4, 1, 1, 4, 4, 1, 0, 1, 0, 1, 0, 0, 0, 4, 1,\n",
       "       4, 5, 5, 3, 4, 1, 1, 4, 4, 4, 4, 4, 0, 0, 0, 2, 0, 2, 0, 2, 2, 0,\n",
       "       0, 2, 0, 0, 0, 0, 0, 1, 4, 0, 1, 1, 1, 1, 0, 1, 1, 1, 0, 0, 0, 1,\n",
       "       1, 0, 0, 0, 0, 2, 2, 2, 2, 0, 2, 2, 0, 2, 2, 0, 0, 0, 0, 3, 4, 0,\n",
       "       4, 0, 0, 1, 1, 0, 0, 0, 0, 0, 0, 5, 5, 3, 3, 4, 4, 0, 0, 0, 2, 2,\n",
       "       2, 2, 0, 2, 0, 0, 0, 0, 3, 3, 3, 3, 4, 3, 3, 4, 1, 1, 0, 0, 0, 1,\n",
       "       0, 1, 0, 0, 0, 0, 0, 2, 2, 0, 2, 0, 0, 0, 0, 0, 5, 5, 3, 3, 3, 5,\n",
       "       5, 5, 3, 3, 3, 3, 3, 3, 4, 0, 3, 5, 3, 0, 1, 1, 0, 1, 0, 0, 1, 0,\n",
       "       4, 4, 0, 3, 3, 3, 3, 3, 5, 1, 0, 2, 2, 2, 0, 2, 2, 2, 5, 5, 0, 3,\n",
       "       5, 0, 3, 3, 0, 0, 1, 0, 0, 0, 1, 1, 1, 0, 0, 4, 0, 0, 0, 0, 0, 0,\n",
       "       2, 0, 2, 0, 0, 5, 0, 5, 5, 5, 5, 5, 3, 5, 5, 0, 0, 0, 1, 1, 1, 0,\n",
       "       1, 0, 1, 0, 0, 1, 0, 0, 4, 0, 2, 0, 0, 2, 0, 0, 0, 2, 0, 0, 0, 0,\n",
       "       0, 1, 0, 1, 1, 1, 1, 1, 0, 0, 0, 0, 0, 0, 2, 2, 2, 2, 2, 0, 0, 0,\n",
       "       1, 1, 1, 1, 1, 0, 1, 0, 0, 0, 0, 0, 0, 0, 2, 0, 2, 0, 5, 5, 5, 0,\n",
       "       0, 1, 0, 0, 0, 1, 1, 0, 0, 0, 0, 0, 0, 0, 0, 0, 1, 1, 0, 0, 0, 0,\n",
       "       4, 0, 0, 0, 0, 0, 0, 0, 5, 5, 5, 1, 0, 1, 0, 0, 0, 0, 0, 0, 0, 4,\n",
       "       0, 0, 0, 0, 0, 0, 0, 0, 5, 0, 5, 5, 1, 0, 1, 0, 0, 0, 5, 0, 0, 3,\n",
       "       0, 0, 0, 0, 0, 0, 0, 0, 5, 0, 0, 5, 1, 0, 1, 0, 1, 0, 0, 0, 1, 0,\n",
       "       0, 5, 0, 0, 0, 0, 0, 0, 0, 0, 5, 0, 0, 0, 0, 0, 0, 0, 5, 0, 0, 0,\n",
       "       0, 0, 0, 0, 0, 5, 0, 0, 0, 1, 0, 0, 0, 0, 5, 0, 0, 5, 0, 0, 0, 0,\n",
       "       0, 0, 0, 5, 0, 5, 5, 0, 3, 0, 0, 0, 0, 0, 0, 0, 0, 0, 0, 0, 0, 0,\n",
       "       0, 0, 0, 0, 5, 3, 0, 0, 0, 0, 0, 0, 0, 0, 0, 0, 0, 0, 0, 0, 0, 0,\n",
       "       5, 0, 0, 0, 0, 0, 0, 0, 0, 5, 5, 5, 0, 3, 0, 5, 0, 5, 1, 0, 0, 0,\n",
       "       1, 0, 5, 0, 0, 0, 0, 0, 0])"
      ]
     },
     "metadata": {},
     "execution_count": 17
    }
   ],
   "source": [
    "instance_predictions[0]"
   ]
  },
  {
   "cell_type": "code",
   "execution_count": 22,
   "metadata": {},
   "outputs": [
    {
     "output_type": "execute_result",
     "data": {
      "text/plain": [
       "tensor([-1.,  0.,  1.,  2.,  3.,  4.,  5.,  6.,  7.,  8.,  9., 10., 11., 12.,\n",
       "        13., 14., 15., 16., 17., 18., 19., 20., 21., 22., 23., 24., 25., 26.,\n",
       "        27., 28., 29., 30., 31., 32., 33., 34., 35., 36., 37., 38., 39., 40.,\n",
       "        41., 42., 43., 44., 45., 46., 47., 48., 49., 50., 51., 52., 53., 54.,\n",
       "        55., 56., 57., 58., 59., 60., 61.], device='cuda:0')"
      ]
     },
     "metadata": {},
     "execution_count": 22
    }
   ],
   "source": [
    "targets[0].F[:, 1].unique()"
   ]
  },
  {
   "cell_type": "code",
   "execution_count": null,
   "metadata": {},
   "outputs": [],
   "source": [
    "outputs = (class_predictions[0], instance_predictions[0])\n",
    "targets = ()"
   ]
  }
 ]
}