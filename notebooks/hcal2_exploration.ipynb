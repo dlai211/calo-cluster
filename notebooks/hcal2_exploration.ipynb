{
 "metadata": {
  "language_info": {
   "codemirror_mode": {
    "name": "ipython",
    "version": 3
   },
   "file_extension": ".py",
   "mimetype": "text/x-python",
   "name": "python",
   "nbconvert_exporter": "python",
   "pygments_lexer": "ipython3",
   "version": "3.8.5-final"
  },
  "orig_nbformat": 2,
  "kernelspec": {
   "name": "python3",
   "display_name": "Python 3.8.5 64-bit ('hgcal_dev': conda)",
   "metadata": {
    "interpreter": {
     "hash": "cb9f4ee5f483ad69f0f0fc0cffdef4872b01483cf3cd2db0fb5ca4081494e515"
    }
   }
  }
 },
 "nbformat": 4,
 "nbformat_minor": 2,
 "cells": [
  {
   "cell_type": "code",
   "execution_count": 2,
   "metadata": {},
   "outputs": [],
   "source": [
    "import numpy as np\n",
    "import plotly\n",
    "import plotly.express as px\n",
    "import uproot\n",
    "import pandas as pd\n",
    "from tqdm import tqdm\n",
    "from pathlib import Path"
   ]
  },
  {
   "cell_type": "code",
   "execution_count": 3,
   "metadata": {},
   "outputs": [],
   "source": [
    "data_path = Path('/home/alexj/data/hgcal-dev/hcal/1.0_noise_split')"
   ]
  },
  {
   "cell_type": "code",
   "execution_count": 4,
   "metadata": {},
   "outputs": [],
   "source": [
    "dfs = [pd.read_pickle(f) for f in data_path.glob('*.pkl')]"
   ]
  },
  {
   "cell_type": "code",
   "execution_count": 5,
   "metadata": {},
   "outputs": [],
   "source": [
    "df = pd.concat(dfs, ignore_index=True)"
   ]
  },
  {
   "cell_type": "code",
   "execution_count": 11,
   "metadata": {},
   "outputs": [
    {
     "output_type": "stream",
     "name": "stdout",
     "text": [
      "8.158741\n0.35379654\n"
     ]
    }
   ],
   "source": [
    "print(df['time'][df['time'] != -9999.0].std())\n",
    "print(df['time'][df['time'] != -9999.0].mean())"
   ]
  },
  {
   "cell_type": "code",
   "execution_count": 7,
   "metadata": {},
   "outputs": [
    {
     "output_type": "stream",
     "name": "stdout",
     "text": [
      "x          119.310562\n",
      "y          117.978790\n",
      "z          286.380585\n",
      "time      4961.749512\n",
      "energy       2.077959\n",
      "dtype: float32\n",
      "x           -1.991564\n",
      "y           -1.404704\n",
      "z            0.642713\n",
      "time     -4204.483887\n",
      "energy       0.447480\n",
      "dtype: float32\n"
     ]
    }
   ],
   "source": [
    "print(df[['x', 'y', 'z', 'time', 'energy']].std())\n",
    "print(df[['x', 'y', 'z', 'time', 'energy']].mean())"
   ]
  },
  {
   "cell_type": "code",
   "execution_count": 31,
   "metadata": {},
   "outputs": [],
   "source": [
    "feats = df[['x', 'y', 'z', 'time', 'energy']]"
   ]
  },
  {
   "cell_type": "code",
   "execution_count": 32,
   "metadata": {},
   "outputs": [],
   "source": [
    "mask = (feats['time'] == -9999.0)\n",
    "stds = feats.std()\n",
    "means = feats.mean()"
   ]
  },
  {
   "cell_type": "code",
   "execution_count": 33,
   "metadata": {},
   "outputs": [],
   "source": [
    "nfeats = (feats - means) / stds"
   ]
  },
  {
   "cell_type": "code",
   "execution_count": 34,
   "metadata": {},
   "outputs": [],
   "source": [
    "nfeats.loc[mask, 'time'] = -2"
   ]
  },
  {
   "cell_type": "code",
   "execution_count": 35,
   "metadata": {},
   "outputs": [
    {
     "output_type": "execute_result",
     "data": {
      "text/plain": [
       "                 x         y         z      time    energy\n",
       "0         1.498213  0.344059 -0.029754 -2.000000 -0.215346\n",
       "1         1.296532  0.836458 -0.029754  0.848072 -0.153511\n",
       "2         0.832040  1.306193 -0.029754 -2.000000 -0.215346\n",
       "3         0.717392  1.373132 -0.029754  0.844860  0.162854\n",
       "4         0.345138  1.510151 -0.029754 -2.000000 -0.215346\n",
       "...            ...       ...       ...       ...       ...\n",
       "11083936 -0.262568  0.415233  1.701775  0.847736  0.727007\n",
       "11083937 -0.468330  0.054819  1.701775  0.848995 -0.168828\n",
       "11083938  0.085781  0.810509  1.823291  0.847149 -0.103317\n",
       "11083939 -0.052397  0.810509  1.823291  0.847906  0.203067\n",
       "11083940  0.151691 -0.497603  1.823291  0.847044 -0.130329\n",
       "\n",
       "[11083941 rows x 5 columns]"
      ],
      "text/html": "<div>\n<style scoped>\n    .dataframe tbody tr th:only-of-type {\n        vertical-align: middle;\n    }\n\n    .dataframe tbody tr th {\n        vertical-align: top;\n    }\n\n    .dataframe thead th {\n        text-align: right;\n    }\n</style>\n<table border=\"1\" class=\"dataframe\">\n  <thead>\n    <tr style=\"text-align: right;\">\n      <th></th>\n      <th>x</th>\n      <th>y</th>\n      <th>z</th>\n      <th>time</th>\n      <th>energy</th>\n    </tr>\n  </thead>\n  <tbody>\n    <tr>\n      <th>0</th>\n      <td>1.498213</td>\n      <td>0.344059</td>\n      <td>-0.029754</td>\n      <td>-2.000000</td>\n      <td>-0.215346</td>\n    </tr>\n    <tr>\n      <th>1</th>\n      <td>1.296532</td>\n      <td>0.836458</td>\n      <td>-0.029754</td>\n      <td>0.848072</td>\n      <td>-0.153511</td>\n    </tr>\n    <tr>\n      <th>2</th>\n      <td>0.832040</td>\n      <td>1.306193</td>\n      <td>-0.029754</td>\n      <td>-2.000000</td>\n      <td>-0.215346</td>\n    </tr>\n    <tr>\n      <th>3</th>\n      <td>0.717392</td>\n      <td>1.373132</td>\n      <td>-0.029754</td>\n      <td>0.844860</td>\n      <td>0.162854</td>\n    </tr>\n    <tr>\n      <th>4</th>\n      <td>0.345138</td>\n      <td>1.510151</td>\n      <td>-0.029754</td>\n      <td>-2.000000</td>\n      <td>-0.215346</td>\n    </tr>\n    <tr>\n      <th>...</th>\n      <td>...</td>\n      <td>...</td>\n      <td>...</td>\n      <td>...</td>\n      <td>...</td>\n    </tr>\n    <tr>\n      <th>11083936</th>\n      <td>-0.262568</td>\n      <td>0.415233</td>\n      <td>1.701775</td>\n      <td>0.847736</td>\n      <td>0.727007</td>\n    </tr>\n    <tr>\n      <th>11083937</th>\n      <td>-0.468330</td>\n      <td>0.054819</td>\n      <td>1.701775</td>\n      <td>0.848995</td>\n      <td>-0.168828</td>\n    </tr>\n    <tr>\n      <th>11083938</th>\n      <td>0.085781</td>\n      <td>0.810509</td>\n      <td>1.823291</td>\n      <td>0.847149</td>\n      <td>-0.103317</td>\n    </tr>\n    <tr>\n      <th>11083939</th>\n      <td>-0.052397</td>\n      <td>0.810509</td>\n      <td>1.823291</td>\n      <td>0.847906</td>\n      <td>0.203067</td>\n    </tr>\n    <tr>\n      <th>11083940</th>\n      <td>0.151691</td>\n      <td>-0.497603</td>\n      <td>1.823291</td>\n      <td>0.847044</td>\n      <td>-0.130329</td>\n    </tr>\n  </tbody>\n</table>\n<p>11083941 rows × 5 columns</p>\n</div>"
     },
     "metadata": {},
     "execution_count": 35
    }
   ],
   "source": [
    "nfeats"
   ]
  },
  {
   "cell_type": "code",
   "execution_count": null,
   "metadata": {},
   "outputs": [],
   "source": []
  }
 ]
}