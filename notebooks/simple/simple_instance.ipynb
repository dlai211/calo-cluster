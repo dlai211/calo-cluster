{
 "metadata": {
  "language_info": {
   "codemirror_mode": {
    "name": "ipython",
    "version": 3
   },
   "file_extension": ".py",
   "mimetype": "text/x-python",
   "name": "python",
   "nbconvert_exporter": "python",
   "pygments_lexer": "ipython3",
   "version": "3.8.5"
  },
  "orig_nbformat": 2,
  "kernelspec": {
   "name": "python385jvsc74a57bd0cb9f4ee5f483ad69f0f0fc0cffdef4872b01483cf3cd2db0fb5ca4081494e515",
   "display_name": "Python 3.8.5 64-bit ('hgcal_dev': conda)"
  }
 },
 "nbformat": 4,
 "nbformat_minor": 2,
 "cells": [
  {
   "cell_type": "code",
   "execution_count": 1,
   "metadata": {},
   "outputs": [],
   "source": [
    "import uproot\n",
    "from tqdm import tqdm\n",
    "import pandas as pd\n",
    "import numpy as np\n",
    "from pathlib import Path\n",
    "import plotly\n",
    "import plotly.express as px\n",
    "import multiprocessing as mp\n",
    "from functools import partial\n",
    "from hgcal_dev.evaluation.experiments.simple_experiment import SimpleExperiment\n",
    "from hgcal_dev.evaluation.studies.clustering_study import ClusteringStudy\n",
    "from hgcal_dev.clustering.meanshift import MeanShift\n",
    "from sklearn.manifold import TSNE"
   ]
  },
  {
   "cell_type": "code",
   "execution_count": 6,
   "metadata": {},
   "outputs": [
    {
     "output_type": "stream",
     "name": "stdout",
     "text": [
      "no checkpoint name given, using /home/alexj/training_outputs/hgcal-spvcnn/dhc9f7wl/checkpoints/last.ckpt.\n",
      "Global seed set to 1722880626\n",
      "INFO:lightning:Global seed set to 1722880626\n"
     ]
    }
   ],
   "source": [
    "# replace with the wandb_id of your run. The second argument is the checkpoint name. If omitted, the last checkpoint will be used.\n",
    "exp = SimpleExperiment('dhc9f7wl')"
   ]
  },
  {
   "cell_type": "code",
   "execution_count": 7,
   "metadata": {},
   "outputs": [],
   "source": [
    "# optional -- will be called automatically if predictions are not found.\n",
    "# exp.save_predictions()"
   ]
  },
  {
   "cell_type": "code",
   "execution_count": 8,
   "metadata": {},
   "outputs": [],
   "source": [
    "study = ClusteringStudy(exp)"
   ]
  },
  {
   "cell_type": "code",
   "execution_count": 10,
   "metadata": {},
   "outputs": [
    {
     "output_type": "stream",
     "name": "stderr",
     "text": [
      "100%|██████████| 1/1 [00:00<00:00, 380.99it/s]\n",
      "1it [01:52, 112.01s/it]\n",
      "100%|██████████| 1/1 [00:00<00:00, 368.57it/s]\n",
      "1it [01:42, 102.58s/it]\n"
     ]
    }
   ],
   "source": [
    "# This will save qualitative visualization plots to your plots dir (specified in configs/config.yaml).\n",
    "study.qualitative_cluster_study(n=1)"
   ]
  },
  {
   "cell_type": "code",
   "execution_count": 11,
   "metadata": {},
   "outputs": [
    {
     "output_type": "stream",
     "name": "stderr",
     "text": [
      "100%|██████████| 8000/8000 [00:10<00:00, 798.97it/s]\n",
      "100%|██████████| 8000/8000 [02:26<00:00, 54.49it/s]\n",
      "100%|██████████| 1000/1000 [00:01<00:00, 802.14it/s]\n",
      "100%|██████████| 1000/1000 [00:18<00:00, 53.99it/s]\n"
     ]
    }
   ],
   "source": [
    "study.resolution(nevents=-1)"
   ]
  },
  {
   "cell_type": "code",
   "execution_count": null,
   "metadata": {},
   "outputs": [],
   "source": []
  }
 ]
}