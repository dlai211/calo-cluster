{
 "metadata": {
  "language_info": {
   "codemirror_mode": {
    "name": "ipython",
    "version": 3
   },
   "file_extension": ".py",
   "mimetype": "text/x-python",
   "name": "python",
   "nbconvert_exporter": "python",
   "pygments_lexer": "ipython3",
   "version": "3.8.5"
  },
  "orig_nbformat": 2,
  "kernelspec": {
   "name": "python385jvsc74a57bd0cb9f4ee5f483ad69f0f0fc0cffdef4872b01483cf3cd2db0fb5ca4081494e515",
   "display_name": "Python 3.8.5 64-bit ('hgcal_dev': conda)"
  }
 },
 "nbformat": 4,
 "nbformat_minor": 2,
 "cells": [
  {
   "cell_type": "code",
   "execution_count": 7,
   "metadata": {},
   "outputs": [],
   "source": [
    "import plotly\n",
    "import plotly.express as px\n",
    "import numpy as np\n",
    "from pathlib import Path\n",
    "import pandas as pd\n",
    "from hgcal_dev.evaluation.utils import get_palette\n",
    "from tqdm import tqdm\n",
    "from sklearn.datasets import make_blobs"
   ]
  },
  {
   "cell_type": "code",
   "execution_count": 8,
   "metadata": {},
   "outputs": [],
   "source": [
    "data_path = Path('/home/alexj/data/hgcal-dev/simple')"
   ]
  },
  {
   "cell_type": "code",
   "execution_count": 15,
   "metadata": {},
   "outputs": [],
   "source": [
    "event_paths = data_path.glob('*.pkl')\n",
    "events = [pd.read_pickle(f) for f in event_paths]"
   ]
  },
  {
   "cell_type": "code",
   "execution_count": 18,
   "metadata": {},
   "outputs": [
    {
     "output_type": "display_data",
     "data": {
      "application/vnd.plotly.v1+json": {
       "config": {
        "plotlyServerURL": "https://plot.ly"
       },
       "data": [
        {
         "hovertemplate": "scluster=15<br>x=%{x}<br>y=%{y}<br>z=%{z}<br>energy=%{marker.size}<extra></extra>",
         "legendgroup": "15",
         "marker": {
          "color": "rgb(255, 0, 0)",
          "size": [
           0.35833924088256847,
           3.849536038827671,
           0.021080580075035934,
           0.294785095112729,
           0.26461812382023303
          ],
          "sizemode": "area",
          "sizeref": 0.010756011377621541,
          "symbol": "circle"
         },
         "mode": "markers",
         "name": "15",
         "scene": "scene",
         "showlegend": true,
         "type": "scatter3d",
         "x": [
          8.70640436954275,
          8.799610722074489,
          9.067171805458383,
          9.003037348662636,
          9.124210053278833
         ],
         "y": [
          -1.7035420851636804,
          -1.2860831163519635,
          -1.5824683302035094,
          -1.5790471366488152,
          -1.4118431413988028
         ],
         "z": [
          7.685008880283595,
          7.190648062415869,
          7.492568862421878,
          7.29058436203857,
          7.268511581976365
         ]
        },
        {
         "hovertemplate": "scluster=17<br>x=%{x}<br>y=%{y}<br>z=%{z}<br>energy=%{marker.size}<extra></extra>",
         "legendgroup": "17",
         "marker": {
          "color": "rgb(0, 0, 255)",
          "size": [
           0.5491725195973889,
           0.19097338551724477,
           1.7363065700705385,
           0.8571845155109095,
           3.3279750028925714,
           0.38195758250447126
          ],
          "sizemode": "area",
          "sizeref": 0.010756011377621541,
          "symbol": "circle"
         },
         "mode": "markers",
         "name": "17",
         "scene": "scene",
         "showlegend": true,
         "type": "scatter3d",
         "x": [
          -0.7213923726617959,
          0.16725322360335798,
          0.2899057059359219,
          -0.04137970477753396,
          -0.29646229022612464,
          0.5779219884518013
         ],
         "y": [
          6.651857025640851,
          6.37197226931315,
          6.975171788684598,
          6.706113376998058,
          6.452334718945712,
          6.607564161009668
         ],
         "z": [
          -8.503982306883351,
          -8.099416468797322,
          -7.769054770026903,
          -8.163793880975179,
          -8.41855313722428,
          -7.798390655998148
         ]
        },
        {
         "hovertemplate": "scluster=13<br>x=%{x}<br>y=%{y}<br>z=%{z}<br>energy=%{marker.size}<extra></extra>",
         "legendgroup": "13",
         "marker": {
          "color": "rgb(0, 255, 191)",
          "size": [
           0.024068071827856828,
           0.5718897709963858,
           1.643438980556191,
           2.0017665659423067,
           0.5833363182353575,
           4.302404551048617,
           0.5726675990385314,
           2.1205832990435742,
           0.43358484826532345
          ],
          "sizemode": "area",
          "sizeref": 0.010756011377621541,
          "symbol": "circle"
         },
         "mode": "markers",
         "name": "13",
         "scene": "scene",
         "showlegend": true,
         "type": "scatter3d",
         "x": [
          2.292804102958912,
          2.9138243311114143,
          2.473662434094178,
          3.2258678855826806,
          3.1273081782728247,
          2.3364130668954672,
          3.0319950761289656,
          2.4717402050848913,
          2.665246982340987
         ],
         "y": [
          2.7497136446326733,
          2.604396484184696,
          2.457201142103508,
          2.652818759903818,
          2.275656158911832,
          2.4996462824549264,
          2.8302028744086956,
          2.785058731543865,
          2.5205464697966593
         ],
         "z": [
          -9.366615095132017,
          -9.805271582214294,
          -9.577111381930502,
          -9.824104134464093,
          -9.420312990800799,
          -9.772778245333486,
          -9.950695711470434,
          -9.30501626967989,
          -9.222609002349243
         ]
        },
        {
         "hovertemplate": "scluster=14<br>x=%{x}<br>y=%{y}<br>z=%{z}<br>energy=%{marker.size}<extra></extra>",
         "legendgroup": "14",
         "marker": {
          "color": "rgb(50, 83, 0)",
          "size": [
           0.01922238154138707,
           1.6210833749447873,
           0.849743910755691,
           0.16173774630146087
          ],
          "sizemode": "area",
          "sizeref": 0.010756011377621541,
          "symbol": "circle"
         },
         "mode": "markers",
         "name": "14",
         "scene": "scene",
         "showlegend": true,
         "type": "scatter3d",
         "x": [
          -5.5163596331665925,
          -5.605438644073958,
          -5.575403882185357,
          -5.742349794941599
         ],
         "y": [
          -6.5107534359524495,
          -6.110574520256201,
          -6.990327635535585,
          -6.437148472695473
         ],
         "z": [
          -5.332065117338618,
          -4.955140429455231,
          -4.878592137258138,
          -5.86734299477893
         ]
        },
        {
         "hovertemplate": "scluster=1<br>x=%{x}<br>y=%{y}<br>z=%{z}<br>energy=%{marker.size}<extra></extra>",
         "legendgroup": "1",
         "marker": {
          "color": "rgb(214, 159, 255)",
          "size": [
           0.737887451920516,
           2.8391884774997425,
           1.5606435594642079
          ],
          "sizemode": "area",
          "sizeref": 0.010756011377621541,
          "symbol": "circle"
         },
         "mode": "markers",
         "name": "1",
         "scene": "scene",
         "showlegend": true,
         "type": "scatter3d",
         "x": [
          -4.0087564281035055,
          -2.932604210703711,
          -3.3960123829610223
         ],
         "y": [
          3.27700295258484,
          2.900974081854237,
          3.0098170692868518
         ],
         "z": [
          9.043559907645326,
          8.565403113353439,
          9.348432060235378
         ]
        },
        {
         "hovertemplate": "scluster=10<br>x=%{x}<br>y=%{y}<br>z=%{z}<br>energy=%{marker.size}<extra></extra>",
         "legendgroup": "10",
         "marker": {
          "color": "rgb(94, 0, 65)",
          "size": [
           0.3343519460757422,
           0.40140719678795417,
           2.032714968757501,
           1.0863359052659096,
           4.186465567415441,
           0.17431376216866828,
           1.4794950017454724
          ],
          "sizemode": "area",
          "sizeref": 0.010756011377621541,
          "symbol": "circle"
         },
         "mode": "markers",
         "name": "10",
         "scene": "scene",
         "showlegend": true,
         "type": "scatter3d",
         "x": [
          -6.306647616099631,
          -6.304269644307573,
          -6.298705682109348,
          -6.378770797109159,
          -6.587310476620263,
          -6.480764418462221,
          -6.2936642416180115
         ],
         "y": [
          7.0339955228978805,
          6.775936429091534,
          6.739204129347597,
          7.164605836744122,
          8.024844557797834,
          6.893596749928695,
          7.113523664946457
         ],
         "z": [
          6.457363419041736,
          6.196375307894212,
          6.268166651191249,
          6.025776218827634,
          6.166795689660107,
          6.143186913880997,
          5.610369142077514
         ]
        },
        {
         "hovertemplate": "scluster=11<br>x=%{x}<br>y=%{y}<br>z=%{z}<br>energy=%{marker.size}<extra></extra>",
         "legendgroup": "11",
         "marker": {
          "color": "rgb(254, 189, 0)",
          "size": [
           0.054922913965563466,
           0.706803929782221,
           2.2171758428723254,
           0.7760082804266968,
           0.9743828485060382,
           0.6499352808527735
          ],
          "sizemode": "area",
          "sizeref": 0.010756011377621541,
          "symbol": "circle"
         },
         "mode": "markers",
         "name": "11",
         "scene": "scene",
         "showlegend": true,
         "type": "scatter3d",
         "x": [
          -7.806253687100078,
          -8.517012623113823,
          -7.780165500242662,
          -7.429669929810828,
          -7.546439061778188,
          -8.19874629236324
         ],
         "y": [
          3.4193897522872096,
          2.850928636313145,
          3.807996930599618,
          3.690403955635397,
          3.3225691207647445,
          3.514107022626348
         ],
         "z": [
          -4.199358480003604,
          -4.463973683674092,
          -4.700110938811631,
          -4.62955253033658,
          -4.508112398155665,
          -4.833271496967438
         ]
        },
        {
         "hovertemplate": "scluster=20<br>x=%{x}<br>y=%{y}<br>z=%{z}<br>energy=%{marker.size}<extra></extra>",
         "legendgroup": "20",
         "marker": {
          "color": "rgb(72, 142, 155)",
          "size": [
           0.17733044088330036,
           1.9186800016081773,
           0.2410066951081223,
           0.42448289455633775,
           0.14470226309184814,
           0.004629936218279248
          ],
          "sizemode": "area",
          "sizeref": 0.010756011377621541,
          "symbol": "circle"
         },
         "mode": "markers",
         "name": "20",
         "scene": "scene",
         "showlegend": true,
         "type": "scatter3d",
         "x": [
          1.085278908205367,
          1.0397987489530924,
          0.682405142837942,
          0.8314857767858033,
          1.491026146129775,
          0.9186034656963473
         ],
         "y": [
          -1.5550597364686802,
          -1.5744982517095127,
          -1.9229162348354436,
          -2.055718633930618,
          -1.2950708410545624,
          -2.049682091273127
         ],
         "z": [
          2.6694073167993806,
          2.877830814643528,
          2.5500571765506677,
          2.7810546047465263,
          2.50912794275338,
          2.722434111166179
         ]
        },
        {
         "hovertemplate": "scluster=2<br>x=%{x}<br>y=%{y}<br>z=%{z}<br>energy=%{marker.size}<extra></extra>",
         "legendgroup": "2",
         "marker": {
          "color": "rgb(0, 2, 1)",
          "size": [
           0.42978526967150527,
           0.388645482790428,
           0.09992205702044796,
           0.161578255008429
          ],
          "sizemode": "area",
          "sizeref": 0.010756011377621541,
          "symbol": "circle"
         },
         "mode": "markers",
         "name": "2",
         "scene": "scene",
         "showlegend": true,
         "type": "scatter3d",
         "x": [
          3.747122360758583,
          3.583607614277087,
          3.980169831322717,
          4.155157940201866
         ],
         "y": [
          8.372584483538903,
          8.645908988964438,
          8.308525662166932,
          9.015981101595685
         ],
         "z": [
          -7.744134244679249,
          -7.275478581718637,
          -7.512692406864805,
          -7.570377737873803
         ]
        },
        {
         "hovertemplate": "scluster=4<br>x=%{x}<br>y=%{y}<br>z=%{z}<br>energy=%{marker.size}<extra></extra>",
         "legendgroup": "4",
         "marker": {
          "color": "rgb(217, 3, 162)",
          "size": [
           1.2902965133328734,
           2.5391202379270172,
           1.8328640205143871
          ],
          "sizemode": "area",
          "sizeref": 0.010756011377621541,
          "symbol": "circle"
         },
         "mode": "markers",
         "name": "4",
         "scene": "scene",
         "showlegend": true,
         "type": "scatter3d",
         "x": [
          -4.659852492078835,
          -4.461716741350367,
          -4.335336346260634
         ],
         "y": [
          8.146553842862518,
          8.570519179072097,
          7.90215772787293
         ],
         "z": [
          -1.4344198690236465,
          -1.4574122790592279,
          -1.1248801472931198
         ]
        },
        {
         "hovertemplate": "scluster=3<br>x=%{x}<br>y=%{y}<br>z=%{z}<br>energy=%{marker.size}<extra></extra>",
         "legendgroup": "3",
         "marker": {
          "color": "rgb(160, 119, 85)",
          "size": [
           0.09667193397581286,
           0.08947373455409473
          ],
          "sizemode": "area",
          "sizeref": 0.010756011377621541,
          "symbol": "circle"
         },
         "mode": "markers",
         "name": "3",
         "scene": "scene",
         "showlegend": true,
         "type": "scatter3d",
         "x": [
          -9.288963211198677,
          -8.303050801301605
         ],
         "y": [
          -0.8259066883269028,
          -0.062323723380688256
         ],
         "z": [
          -8.663816149602269,
          -8.435694406468938
         ]
        },
        {
         "hovertemplate": "scluster=0<br>x=%{x}<br>y=%{y}<br>z=%{z}<br>energy=%{marker.size}<extra></extra>",
         "legendgroup": "0",
         "marker": {
          "color": "rgb(88, 171, 0)",
          "size": [
           0.2279602852565687,
           0.42504782389848617,
           1.3824684806004353,
           2.4710948316955346,
           1.3657537880341555,
           0.22809879491763072,
           0.6394091024293244,
           0.17714472973756815,
           2.7702349216920297,
           0.12002655883513592
          ],
          "sizemode": "area",
          "sizeref": 0.010756011377621541,
          "symbol": "circle"
         },
         "mode": "markers",
         "name": "0",
         "scene": "scene",
         "showlegend": true,
         "type": "scatter3d",
         "x": [
          -1.3277291405415519,
          -0.7299720228653497,
          -1.2672240712740375,
          -0.8741204664330108,
          -1.3494747049385623,
          -0.48886323897019535,
          -0.5894431771858667,
          -1.0842716091320272,
          -0.8113505305142145,
          -1.0947989867513603
         ],
         "y": [
          7.919986420338785,
          7.812925233157332,
          7.877444628091438,
          7.755740473160473,
          7.417056305538505,
          7.570787674479599,
          7.539100203038711,
          7.999369894280981,
          7.389630994203591,
          8.106622487632082
         ],
         "z": [
          8.906553833031117,
          8.704173131074523,
          8.771782487692821,
          8.87984179865324,
          8.590152317019436,
          9.154081385820461,
          9.398091860952295,
          8.939019418871347,
          8.801470693880924,
          8.755608101279037
         ]
        },
        {
         "hovertemplate": "scluster=18<br>x=%{x}<br>y=%{y}<br>z=%{z}<br>energy=%{marker.size}<extra></extra>",
         "legendgroup": "18",
         "marker": {
          "color": "rgb(241, 231, 225)",
          "size": [
           2.2506201013570126,
           1.197007991650822,
           0.15667741055588671,
           1.535066653054556,
           0.34405497185342493,
           0.932052683141432,
           2.0983137240220366,
           2.861283007292353
          ],
          "sizemode": "area",
          "sizeref": 0.010756011377621541,
          "symbol": "circle"
         },
         "mode": "markers",
         "name": "18",
         "scene": "scene",
         "showlegend": true,
         "type": "scatter3d",
         "x": [
          4.01486571137573,
          3.9386681898090745,
          4.229803122101432,
          3.553339705654607,
          3.806000711197539,
          3.710150189279659,
          3.9109534382075934,
          3.5527157952267823
         ],
         "y": [
          -5.523078329735644,
          -5.464961330855728,
          -5.719938972319974,
          -5.334466196280254,
          -5.613751167001297,
          -6.069766795479341,
          -4.701476923029557,
          -5.6715995376827975
         ],
         "z": [
          2.2986873723684935,
          2.3196931493885473,
          2.197247768257026,
          2.367544273527552,
          2.8758647865112192,
          2.356183241331949,
          2.3270747527062348,
          2.413957860196235
         ]
        },
        {
         "hovertemplate": "scluster=12<br>x=%{x}<br>y=%{y}<br>z=%{z}<br>energy=%{marker.size}<extra></extra>",
         "legendgroup": "12",
         "marker": {
          "color": "rgb(154, 4, 255)",
          "size": [
           0.4713731777565638,
           0.7381010596283293
          ],
          "sizemode": "area",
          "sizeref": 0.010756011377621541,
          "symbol": "circle"
         },
         "mode": "markers",
         "name": "12",
         "scene": "scene",
         "showlegend": true,
         "type": "scatter3d",
         "x": [
          7.987722865141091,
          7.314937966252949
         ],
         "y": [
          -1.955548579989948,
          -1.7138407980833783
         ],
         "z": [
          -3.35622001460469,
          -3.9458400568898475
         ]
        },
        {
         "hovertemplate": "scluster=16<br>x=%{x}<br>y=%{y}<br>z=%{z}<br>energy=%{marker.size}<extra></extra>",
         "legendgroup": "16",
         "marker": {
          "color": "rgb(59, 67, 82)",
          "size": [
           0.08880291714341777,
           0.7752868462644507,
           2.080134416041381,
           0.05260861861366197,
           0.17774753376313884,
           0.18643174885918323
          ],
          "sizemode": "area",
          "sizeref": 0.010756011377621541,
          "symbol": "circle"
         },
         "mode": "markers",
         "name": "16",
         "scene": "scene",
         "showlegend": true,
         "type": "scatter3d",
         "x": [
          3.0405992763358065,
          2.6337349562833077,
          2.7495861866955753,
          3.0464836507117843,
          2.7562396541523113,
          2.810749593138492
         ],
         "y": [
          2.600148949840187,
          2.3163632258161826,
          1.9542367285758488,
          2.4796058567888624,
          2.7946887260992237,
          2.1497345818413627
         ],
         "z": [
          -8.32860338937494,
          -8.957695618296869,
          -8.887707249625835,
          -9.45519944712002,
          -8.811454549306747,
          -8.613940406600298
         ]
        },
        {
         "hovertemplate": "scluster=19<br>x=%{x}<br>y=%{y}<br>z=%{z}<br>energy=%{marker.size}<extra></extra>",
         "legendgroup": "19",
         "marker": {
          "color": "rgb(141, 34, 0)",
          "size": [
           0.0852817095123922,
           0.14027756820139617,
           1.6738793096171274,
           2.156839935146326,
           1.2984506627657866,
           1.8965072208641631,
           0.04799531830928188,
           0.26546186251989834,
           0.38251313979732016
          ],
          "sizemode": "area",
          "sizeref": 0.010756011377621541,
          "symbol": "circle"
         },
         "mode": "markers",
         "name": "19",
         "scene": "scene",
         "showlegend": true,
         "type": "scatter3d",
         "x": [
          -7.978682062577734,
          -8.111926554780513,
          -8.274189577883913,
          -7.893932785157135,
          -8.053198121340476,
          -7.547476444091789,
          -8.101820064526308,
          -7.962791598118858,
          -8.025751700435931
         ],
         "y": [
          -4.380486618831175,
          -4.600252498097069,
          -4.758044837799755,
          -4.18524360073079,
          -5.470961818436713,
          -4.717067577666352,
          -4.4972066695756485,
          -4.904308439112584,
          -4.295910566157087
         ],
         "z": [
          -4.284291205948684,
          -4.315774972441928,
          -4.32104346516545,
          -3.8858188529874274,
          -4.353208814209542,
          -4.797368072742422,
          -4.2072132452686235,
          -4.357135673238901,
          -3.894238618511303
         ]
        },
        {
         "hovertemplate": "scluster=9<br>x=%{x}<br>y=%{y}<br>z=%{z}<br>energy=%{marker.size}<extra></extra>",
         "legendgroup": "9",
         "marker": {
          "color": "rgb(133, 218, 255)",
          "size": [
           0.5828177494396032,
           0.3781853260592976,
           1.7361627944109177,
           0.634954036674635,
           1.050596002744473,
           0.16930311331359094
          ],
          "sizemode": "area",
          "sizeref": 0.010756011377621541,
          "symbol": "circle"
         },
         "mode": "markers",
         "name": "9",
         "scene": "scene",
         "showlegend": true,
         "type": "scatter3d",
         "x": [
          7.641284695192997,
          7.280193042003336,
          7.064323078634734,
          7.272088383486376,
          7.240344109348042,
          7.697800293169711
         ],
         "y": [
          -3.3064483389353527,
          -3.2409845014627994,
          -3.310776294570755,
          -3.071885340084055,
          -3.4312412590283756,
          -3.5242147202342338
         ],
         "z": [
          -3.5431523940838345,
          -3.4084135143318055,
          -4.0525938822035155,
          -4.195560279727628,
          -3.581206776902038,
          -3.068565244357466
         ]
        },
        {
         "hovertemplate": "scluster=8<br>x=%{x}<br>y=%{y}<br>z=%{z}<br>energy=%{marker.size}<extra></extra>",
         "legendgroup": "8",
         "marker": {
          "color": "rgb(169, 255, 0)",
          "size": [
           0.006661895616396744,
           2.9416128929316443,
           2.8590239885688913
          ],
          "sizemode": "area",
          "sizeref": 0.010756011377621541,
          "symbol": "circle"
         },
         "mode": "markers",
         "name": "8",
         "scene": "scene",
         "showlegend": true,
         "type": "scatter3d",
         "x": [
          -2.1429530367390055,
          -2.2151799245342283,
          -2.5758074258315045
         ],
         "y": [
          -4.1162184758735485,
          -4.569312772809963,
          -4.241515349847232
         ],
         "z": [
          7.986695817170869,
          8.215199068303107,
          8.622461917474388
         ]
        },
        {
         "hovertemplate": "scluster=5<br>x=%{x}<br>y=%{y}<br>z=%{z}<br>energy=%{marker.size}<extra></extra>",
         "legendgroup": "5",
         "marker": {
          "color": "rgb(255, 139, 162)",
          "size": [
           0.1306416090174862,
           0.6014822984158212,
           0.6995937421642929,
           2.377343185753248,
           0.15805120305069995,
           0.43129566255006657
          ],
          "sizemode": "area",
          "sizeref": 0.010756011377621541,
          "symbol": "circle"
         },
         "mode": "markers",
         "name": "5",
         "scene": "scene",
         "showlegend": true,
         "type": "scatter3d",
         "x": [
          5.669338817463838,
          5.50835890020897,
          4.392128439694518,
          5.09858209975292,
          5.02121717375288,
          4.91288445376567
         ],
         "y": [
          -5.852138810916049,
          -5.899073569096358,
          -6.653503613826689,
          -6.010613036318818,
          -5.937986103189325,
          -5.8981556652315
         ],
         "z": [
          0.13666779536559098,
          -0.3661435109714682,
          -0.3607799028649294,
          -0.023947634660295022,
          -0.5545728423527673,
          -0.3962749078524689
         ]
        },
        {
         "hovertemplate": "scluster=7<br>x=%{x}<br>y=%{y}<br>z=%{z}<br>energy=%{marker.size}<extra></extra>",
         "legendgroup": "7",
         "marker": {
          "color": "rgb(110, 137, 255)",
          "size": [
           0.774347430390951
          ],
          "sizemode": "area",
          "sizeref": 0.010756011377621541,
          "symbol": "circle"
         },
         "mode": "markers",
         "name": "7",
         "scene": "scene",
         "showlegend": true,
         "type": "scatter3d",
         "x": [
          2.688341444215846
         ],
         "y": [
          -7.369472783436946
         ],
         "z": [
          7.515107659719265
         ]
        }
       ],
       "layout": {
        "legend": {
         "itemsizing": "constant",
         "title": {
          "text": "scluster"
         },
         "tracegroupgap": 0
        },
        "margin": {
         "t": 60
        },
        "scene": {
         "domain": {
          "x": [
           0,
           1
          ],
          "y": [
           0,
           1
          ]
         },
         "xaxis": {
          "title": {
           "text": "x"
          }
         },
         "yaxis": {
          "title": {
           "text": "y"
          }
         },
         "zaxis": {
          "title": {
           "text": "z"
          }
         }
        },
        "template": {
         "data": {
          "bar": [
           {
            "error_x": {
             "color": "#2a3f5f"
            },
            "error_y": {
             "color": "#2a3f5f"
            },
            "marker": {
             "line": {
              "color": "#E5ECF6",
              "width": 0.5
             }
            },
            "type": "bar"
           }
          ],
          "barpolar": [
           {
            "marker": {
             "line": {
              "color": "#E5ECF6",
              "width": 0.5
             }
            },
            "type": "barpolar"
           }
          ],
          "carpet": [
           {
            "aaxis": {
             "endlinecolor": "#2a3f5f",
             "gridcolor": "white",
             "linecolor": "white",
             "minorgridcolor": "white",
             "startlinecolor": "#2a3f5f"
            },
            "baxis": {
             "endlinecolor": "#2a3f5f",
             "gridcolor": "white",
             "linecolor": "white",
             "minorgridcolor": "white",
             "startlinecolor": "#2a3f5f"
            },
            "type": "carpet"
           }
          ],
          "choropleth": [
           {
            "colorbar": {
             "outlinewidth": 0,
             "ticks": ""
            },
            "type": "choropleth"
           }
          ],
          "contour": [
           {
            "colorbar": {
             "outlinewidth": 0,
             "ticks": ""
            },
            "colorscale": [
             [
              0,
              "#0d0887"
             ],
             [
              0.1111111111111111,
              "#46039f"
             ],
             [
              0.2222222222222222,
              "#7201a8"
             ],
             [
              0.3333333333333333,
              "#9c179e"
             ],
             [
              0.4444444444444444,
              "#bd3786"
             ],
             [
              0.5555555555555556,
              "#d8576b"
             ],
             [
              0.6666666666666666,
              "#ed7953"
             ],
             [
              0.7777777777777778,
              "#fb9f3a"
             ],
             [
              0.8888888888888888,
              "#fdca26"
             ],
             [
              1,
              "#f0f921"
             ]
            ],
            "type": "contour"
           }
          ],
          "contourcarpet": [
           {
            "colorbar": {
             "outlinewidth": 0,
             "ticks": ""
            },
            "type": "contourcarpet"
           }
          ],
          "heatmap": [
           {
            "colorbar": {
             "outlinewidth": 0,
             "ticks": ""
            },
            "colorscale": [
             [
              0,
              "#0d0887"
             ],
             [
              0.1111111111111111,
              "#46039f"
             ],
             [
              0.2222222222222222,
              "#7201a8"
             ],
             [
              0.3333333333333333,
              "#9c179e"
             ],
             [
              0.4444444444444444,
              "#bd3786"
             ],
             [
              0.5555555555555556,
              "#d8576b"
             ],
             [
              0.6666666666666666,
              "#ed7953"
             ],
             [
              0.7777777777777778,
              "#fb9f3a"
             ],
             [
              0.8888888888888888,
              "#fdca26"
             ],
             [
              1,
              "#f0f921"
             ]
            ],
            "type": "heatmap"
           }
          ],
          "heatmapgl": [
           {
            "colorbar": {
             "outlinewidth": 0,
             "ticks": ""
            },
            "colorscale": [
             [
              0,
              "#0d0887"
             ],
             [
              0.1111111111111111,
              "#46039f"
             ],
             [
              0.2222222222222222,
              "#7201a8"
             ],
             [
              0.3333333333333333,
              "#9c179e"
             ],
             [
              0.4444444444444444,
              "#bd3786"
             ],
             [
              0.5555555555555556,
              "#d8576b"
             ],
             [
              0.6666666666666666,
              "#ed7953"
             ],
             [
              0.7777777777777778,
              "#fb9f3a"
             ],
             [
              0.8888888888888888,
              "#fdca26"
             ],
             [
              1,
              "#f0f921"
             ]
            ],
            "type": "heatmapgl"
           }
          ],
          "histogram": [
           {
            "marker": {
             "colorbar": {
              "outlinewidth": 0,
              "ticks": ""
             }
            },
            "type": "histogram"
           }
          ],
          "histogram2d": [
           {
            "colorbar": {
             "outlinewidth": 0,
             "ticks": ""
            },
            "colorscale": [
             [
              0,
              "#0d0887"
             ],
             [
              0.1111111111111111,
              "#46039f"
             ],
             [
              0.2222222222222222,
              "#7201a8"
             ],
             [
              0.3333333333333333,
              "#9c179e"
             ],
             [
              0.4444444444444444,
              "#bd3786"
             ],
             [
              0.5555555555555556,
              "#d8576b"
             ],
             [
              0.6666666666666666,
              "#ed7953"
             ],
             [
              0.7777777777777778,
              "#fb9f3a"
             ],
             [
              0.8888888888888888,
              "#fdca26"
             ],
             [
              1,
              "#f0f921"
             ]
            ],
            "type": "histogram2d"
           }
          ],
          "histogram2dcontour": [
           {
            "colorbar": {
             "outlinewidth": 0,
             "ticks": ""
            },
            "colorscale": [
             [
              0,
              "#0d0887"
             ],
             [
              0.1111111111111111,
              "#46039f"
             ],
             [
              0.2222222222222222,
              "#7201a8"
             ],
             [
              0.3333333333333333,
              "#9c179e"
             ],
             [
              0.4444444444444444,
              "#bd3786"
             ],
             [
              0.5555555555555556,
              "#d8576b"
             ],
             [
              0.6666666666666666,
              "#ed7953"
             ],
             [
              0.7777777777777778,
              "#fb9f3a"
             ],
             [
              0.8888888888888888,
              "#fdca26"
             ],
             [
              1,
              "#f0f921"
             ]
            ],
            "type": "histogram2dcontour"
           }
          ],
          "mesh3d": [
           {
            "colorbar": {
             "outlinewidth": 0,
             "ticks": ""
            },
            "type": "mesh3d"
           }
          ],
          "parcoords": [
           {
            "line": {
             "colorbar": {
              "outlinewidth": 0,
              "ticks": ""
             }
            },
            "type": "parcoords"
           }
          ],
          "pie": [
           {
            "automargin": true,
            "type": "pie"
           }
          ],
          "scatter": [
           {
            "marker": {
             "colorbar": {
              "outlinewidth": 0,
              "ticks": ""
             }
            },
            "type": "scatter"
           }
          ],
          "scatter3d": [
           {
            "line": {
             "colorbar": {
              "outlinewidth": 0,
              "ticks": ""
             }
            },
            "marker": {
             "colorbar": {
              "outlinewidth": 0,
              "ticks": ""
             }
            },
            "type": "scatter3d"
           }
          ],
          "scattercarpet": [
           {
            "marker": {
             "colorbar": {
              "outlinewidth": 0,
              "ticks": ""
             }
            },
            "type": "scattercarpet"
           }
          ],
          "scattergeo": [
           {
            "marker": {
             "colorbar": {
              "outlinewidth": 0,
              "ticks": ""
             }
            },
            "type": "scattergeo"
           }
          ],
          "scattergl": [
           {
            "marker": {
             "colorbar": {
              "outlinewidth": 0,
              "ticks": ""
             }
            },
            "type": "scattergl"
           }
          ],
          "scattermapbox": [
           {
            "marker": {
             "colorbar": {
              "outlinewidth": 0,
              "ticks": ""
             }
            },
            "type": "scattermapbox"
           }
          ],
          "scatterpolar": [
           {
            "marker": {
             "colorbar": {
              "outlinewidth": 0,
              "ticks": ""
             }
            },
            "type": "scatterpolar"
           }
          ],
          "scatterpolargl": [
           {
            "marker": {
             "colorbar": {
              "outlinewidth": 0,
              "ticks": ""
             }
            },
            "type": "scatterpolargl"
           }
          ],
          "scatterternary": [
           {
            "marker": {
             "colorbar": {
              "outlinewidth": 0,
              "ticks": ""
             }
            },
            "type": "scatterternary"
           }
          ],
          "surface": [
           {
            "colorbar": {
             "outlinewidth": 0,
             "ticks": ""
            },
            "colorscale": [
             [
              0,
              "#0d0887"
             ],
             [
              0.1111111111111111,
              "#46039f"
             ],
             [
              0.2222222222222222,
              "#7201a8"
             ],
             [
              0.3333333333333333,
              "#9c179e"
             ],
             [
              0.4444444444444444,
              "#bd3786"
             ],
             [
              0.5555555555555556,
              "#d8576b"
             ],
             [
              0.6666666666666666,
              "#ed7953"
             ],
             [
              0.7777777777777778,
              "#fb9f3a"
             ],
             [
              0.8888888888888888,
              "#fdca26"
             ],
             [
              1,
              "#f0f921"
             ]
            ],
            "type": "surface"
           }
          ],
          "table": [
           {
            "cells": {
             "fill": {
              "color": "#EBF0F8"
             },
             "line": {
              "color": "white"
             }
            },
            "header": {
             "fill": {
              "color": "#C8D4E3"
             },
             "line": {
              "color": "white"
             }
            },
            "type": "table"
           }
          ]
         },
         "layout": {
          "annotationdefaults": {
           "arrowcolor": "#2a3f5f",
           "arrowhead": 0,
           "arrowwidth": 1
          },
          "coloraxis": {
           "colorbar": {
            "outlinewidth": 0,
            "ticks": ""
           }
          },
          "colorscale": {
           "diverging": [
            [
             0,
             "#8e0152"
            ],
            [
             0.1,
             "#c51b7d"
            ],
            [
             0.2,
             "#de77ae"
            ],
            [
             0.3,
             "#f1b6da"
            ],
            [
             0.4,
             "#fde0ef"
            ],
            [
             0.5,
             "#f7f7f7"
            ],
            [
             0.6,
             "#e6f5d0"
            ],
            [
             0.7,
             "#b8e186"
            ],
            [
             0.8,
             "#7fbc41"
            ],
            [
             0.9,
             "#4d9221"
            ],
            [
             1,
             "#276419"
            ]
           ],
           "sequential": [
            [
             0,
             "#0d0887"
            ],
            [
             0.1111111111111111,
             "#46039f"
            ],
            [
             0.2222222222222222,
             "#7201a8"
            ],
            [
             0.3333333333333333,
             "#9c179e"
            ],
            [
             0.4444444444444444,
             "#bd3786"
            ],
            [
             0.5555555555555556,
             "#d8576b"
            ],
            [
             0.6666666666666666,
             "#ed7953"
            ],
            [
             0.7777777777777778,
             "#fb9f3a"
            ],
            [
             0.8888888888888888,
             "#fdca26"
            ],
            [
             1,
             "#f0f921"
            ]
           ],
           "sequentialminus": [
            [
             0,
             "#0d0887"
            ],
            [
             0.1111111111111111,
             "#46039f"
            ],
            [
             0.2222222222222222,
             "#7201a8"
            ],
            [
             0.3333333333333333,
             "#9c179e"
            ],
            [
             0.4444444444444444,
             "#bd3786"
            ],
            [
             0.5555555555555556,
             "#d8576b"
            ],
            [
             0.6666666666666666,
             "#ed7953"
            ],
            [
             0.7777777777777778,
             "#fb9f3a"
            ],
            [
             0.8888888888888888,
             "#fdca26"
            ],
            [
             1,
             "#f0f921"
            ]
           ]
          },
          "colorway": [
           "#636efa",
           "#EF553B",
           "#00cc96",
           "#ab63fa",
           "#FFA15A",
           "#19d3f3",
           "#FF6692",
           "#B6E880",
           "#FF97FF",
           "#FECB52"
          ],
          "font": {
           "color": "#2a3f5f"
          },
          "geo": {
           "bgcolor": "white",
           "lakecolor": "white",
           "landcolor": "#E5ECF6",
           "showlakes": true,
           "showland": true,
           "subunitcolor": "white"
          },
          "hoverlabel": {
           "align": "left"
          },
          "hovermode": "closest",
          "mapbox": {
           "style": "light"
          },
          "paper_bgcolor": "white",
          "plot_bgcolor": "#E5ECF6",
          "polar": {
           "angularaxis": {
            "gridcolor": "white",
            "linecolor": "white",
            "ticks": ""
           },
           "bgcolor": "#E5ECF6",
           "radialaxis": {
            "gridcolor": "white",
            "linecolor": "white",
            "ticks": ""
           }
          },
          "scene": {
           "xaxis": {
            "backgroundcolor": "#E5ECF6",
            "gridcolor": "white",
            "gridwidth": 2,
            "linecolor": "white",
            "showbackground": true,
            "ticks": "",
            "zerolinecolor": "white"
           },
           "yaxis": {
            "backgroundcolor": "#E5ECF6",
            "gridcolor": "white",
            "gridwidth": 2,
            "linecolor": "white",
            "showbackground": true,
            "ticks": "",
            "zerolinecolor": "white"
           },
           "zaxis": {
            "backgroundcolor": "#E5ECF6",
            "gridcolor": "white",
            "gridwidth": 2,
            "linecolor": "white",
            "showbackground": true,
            "ticks": "",
            "zerolinecolor": "white"
           }
          },
          "shapedefaults": {
           "line": {
            "color": "#2a3f5f"
           }
          },
          "ternary": {
           "aaxis": {
            "gridcolor": "white",
            "linecolor": "white",
            "ticks": ""
           },
           "baxis": {
            "gridcolor": "white",
            "linecolor": "white",
            "ticks": ""
           },
           "bgcolor": "#E5ECF6",
           "caxis": {
            "gridcolor": "white",
            "linecolor": "white",
            "ticks": ""
           }
          },
          "title": {
           "x": 0.05
          },
          "xaxis": {
           "automargin": true,
           "gridcolor": "white",
           "linecolor": "white",
           "ticks": "",
           "title": {
            "standoff": 15
           },
           "zerolinecolor": "white",
           "zerolinewidth": 2
          },
          "yaxis": {
           "automargin": true,
           "gridcolor": "white",
           "linecolor": "white",
           "ticks": "",
           "title": {
            "standoff": 15
           },
           "zerolinecolor": "white",
           "zerolinewidth": 2
          }
         }
        }
       }
      },
      "text/html": "<div>                            <div id=\"043f91f8-6c85-4a37-b639-bb7ff6df3296\" class=\"plotly-graph-div\" style=\"height:525px; width:100%;\"></div>            <script type=\"text/javascript\">                require([\"plotly\"], function(Plotly) {                    window.PLOTLYENV=window.PLOTLYENV || {};                                    if (document.getElementById(\"043f91f8-6c85-4a37-b639-bb7ff6df3296\")) {                    Plotly.newPlot(                        \"043f91f8-6c85-4a37-b639-bb7ff6df3296\",                        [{\"hovertemplate\": \"scluster=15<br>x=%{x}<br>y=%{y}<br>z=%{z}<br>energy=%{marker.size}<extra></extra>\", \"legendgroup\": \"15\", \"marker\": {\"color\": \"rgb(255, 0, 0)\", \"size\": [0.35833924088256847, 3.849536038827671, 0.021080580075035934, 0.294785095112729, 0.26461812382023303], \"sizemode\": \"area\", \"sizeref\": 0.010756011377621541, \"symbol\": \"circle\"}, \"mode\": \"markers\", \"name\": \"15\", \"scene\": \"scene\", \"showlegend\": true, \"type\": \"scatter3d\", \"x\": [8.70640436954275, 8.799610722074489, 9.067171805458383, 9.003037348662636, 9.124210053278833], \"y\": [-1.7035420851636804, -1.2860831163519635, -1.5824683302035094, -1.5790471366488152, -1.4118431413988028], \"z\": [7.685008880283595, 7.190648062415869, 7.492568862421878, 7.29058436203857, 7.268511581976365]}, {\"hovertemplate\": \"scluster=17<br>x=%{x}<br>y=%{y}<br>z=%{z}<br>energy=%{marker.size}<extra></extra>\", \"legendgroup\": \"17\", \"marker\": {\"color\": \"rgb(0, 0, 255)\", \"size\": [0.5491725195973889, 0.19097338551724477, 1.7363065700705385, 0.8571845155109095, 3.3279750028925714, 0.38195758250447126], \"sizemode\": \"area\", \"sizeref\": 0.010756011377621541, \"symbol\": \"circle\"}, \"mode\": \"markers\", \"name\": \"17\", \"scene\": \"scene\", \"showlegend\": true, \"type\": \"scatter3d\", \"x\": [-0.7213923726617959, 0.16725322360335798, 0.2899057059359219, -0.04137970477753396, -0.29646229022612464, 0.5779219884518013], \"y\": [6.651857025640851, 6.37197226931315, 6.975171788684598, 6.706113376998058, 6.452334718945712, 6.607564161009668], \"z\": [-8.503982306883351, -8.099416468797322, -7.769054770026903, -8.163793880975179, -8.41855313722428, -7.798390655998148]}, {\"hovertemplate\": \"scluster=13<br>x=%{x}<br>y=%{y}<br>z=%{z}<br>energy=%{marker.size}<extra></extra>\", \"legendgroup\": \"13\", \"marker\": {\"color\": \"rgb(0, 255, 191)\", \"size\": [0.024068071827856828, 0.5718897709963858, 1.643438980556191, 2.0017665659423067, 0.5833363182353575, 4.302404551048617, 0.5726675990385314, 2.1205832990435742, 0.43358484826532345], \"sizemode\": \"area\", \"sizeref\": 0.010756011377621541, \"symbol\": \"circle\"}, \"mode\": \"markers\", \"name\": \"13\", \"scene\": \"scene\", \"showlegend\": true, \"type\": \"scatter3d\", \"x\": [2.292804102958912, 2.9138243311114143, 2.473662434094178, 3.2258678855826806, 3.1273081782728247, 2.3364130668954672, 3.0319950761289656, 2.4717402050848913, 2.665246982340987], \"y\": [2.7497136446326733, 2.604396484184696, 2.457201142103508, 2.652818759903818, 2.275656158911832, 2.4996462824549264, 2.8302028744086956, 2.785058731543865, 2.5205464697966593], \"z\": [-9.366615095132017, -9.805271582214294, -9.577111381930502, -9.824104134464093, -9.420312990800799, -9.772778245333486, -9.950695711470434, -9.30501626967989, -9.222609002349243]}, {\"hovertemplate\": \"scluster=14<br>x=%{x}<br>y=%{y}<br>z=%{z}<br>energy=%{marker.size}<extra></extra>\", \"legendgroup\": \"14\", \"marker\": {\"color\": \"rgb(50, 83, 0)\", \"size\": [0.01922238154138707, 1.6210833749447873, 0.849743910755691, 0.16173774630146087], \"sizemode\": \"area\", \"sizeref\": 0.010756011377621541, \"symbol\": \"circle\"}, \"mode\": \"markers\", \"name\": \"14\", \"scene\": \"scene\", \"showlegend\": true, \"type\": \"scatter3d\", \"x\": [-5.5163596331665925, -5.605438644073958, -5.575403882185357, -5.742349794941599], \"y\": [-6.5107534359524495, -6.110574520256201, -6.990327635535585, -6.437148472695473], \"z\": [-5.332065117338618, -4.955140429455231, -4.878592137258138, -5.86734299477893]}, {\"hovertemplate\": \"scluster=1<br>x=%{x}<br>y=%{y}<br>z=%{z}<br>energy=%{marker.size}<extra></extra>\", \"legendgroup\": \"1\", \"marker\": {\"color\": \"rgb(214, 159, 255)\", \"size\": [0.737887451920516, 2.8391884774997425, 1.5606435594642079], \"sizemode\": \"area\", \"sizeref\": 0.010756011377621541, \"symbol\": \"circle\"}, \"mode\": \"markers\", \"name\": \"1\", \"scene\": \"scene\", \"showlegend\": true, \"type\": \"scatter3d\", \"x\": [-4.0087564281035055, -2.932604210703711, -3.3960123829610223], \"y\": [3.27700295258484, 2.900974081854237, 3.0098170692868518], \"z\": [9.043559907645326, 8.565403113353439, 9.348432060235378]}, {\"hovertemplate\": \"scluster=10<br>x=%{x}<br>y=%{y}<br>z=%{z}<br>energy=%{marker.size}<extra></extra>\", \"legendgroup\": \"10\", \"marker\": {\"color\": \"rgb(94, 0, 65)\", \"size\": [0.3343519460757422, 0.40140719678795417, 2.032714968757501, 1.0863359052659096, 4.186465567415441, 0.17431376216866828, 1.4794950017454724], \"sizemode\": \"area\", \"sizeref\": 0.010756011377621541, \"symbol\": \"circle\"}, \"mode\": \"markers\", \"name\": \"10\", \"scene\": \"scene\", \"showlegend\": true, \"type\": \"scatter3d\", \"x\": [-6.306647616099631, -6.304269644307573, -6.298705682109348, -6.378770797109159, -6.587310476620263, -6.480764418462221, -6.2936642416180115], \"y\": [7.0339955228978805, 6.775936429091534, 6.739204129347597, 7.164605836744122, 8.024844557797834, 6.893596749928695, 7.113523664946457], \"z\": [6.457363419041736, 6.196375307894212, 6.268166651191249, 6.025776218827634, 6.166795689660107, 6.143186913880997, 5.610369142077514]}, {\"hovertemplate\": \"scluster=11<br>x=%{x}<br>y=%{y}<br>z=%{z}<br>energy=%{marker.size}<extra></extra>\", \"legendgroup\": \"11\", \"marker\": {\"color\": \"rgb(254, 189, 0)\", \"size\": [0.054922913965563466, 0.706803929782221, 2.2171758428723254, 0.7760082804266968, 0.9743828485060382, 0.6499352808527735], \"sizemode\": \"area\", \"sizeref\": 0.010756011377621541, \"symbol\": \"circle\"}, \"mode\": \"markers\", \"name\": \"11\", \"scene\": \"scene\", \"showlegend\": true, \"type\": \"scatter3d\", \"x\": [-7.806253687100078, -8.517012623113823, -7.780165500242662, -7.429669929810828, -7.546439061778188, -8.19874629236324], \"y\": [3.4193897522872096, 2.850928636313145, 3.807996930599618, 3.690403955635397, 3.3225691207647445, 3.514107022626348], \"z\": [-4.199358480003604, -4.463973683674092, -4.700110938811631, -4.62955253033658, -4.508112398155665, -4.833271496967438]}, {\"hovertemplate\": \"scluster=20<br>x=%{x}<br>y=%{y}<br>z=%{z}<br>energy=%{marker.size}<extra></extra>\", \"legendgroup\": \"20\", \"marker\": {\"color\": \"rgb(72, 142, 155)\", \"size\": [0.17733044088330036, 1.9186800016081773, 0.2410066951081223, 0.42448289455633775, 0.14470226309184814, 0.004629936218279248], \"sizemode\": \"area\", \"sizeref\": 0.010756011377621541, \"symbol\": \"circle\"}, \"mode\": \"markers\", \"name\": \"20\", \"scene\": \"scene\", \"showlegend\": true, \"type\": \"scatter3d\", \"x\": [1.085278908205367, 1.0397987489530924, 0.682405142837942, 0.8314857767858033, 1.491026146129775, 0.9186034656963473], \"y\": [-1.5550597364686802, -1.5744982517095127, -1.9229162348354436, -2.055718633930618, -1.2950708410545624, -2.049682091273127], \"z\": [2.6694073167993806, 2.877830814643528, 2.5500571765506677, 2.7810546047465263, 2.50912794275338, 2.722434111166179]}, {\"hovertemplate\": \"scluster=2<br>x=%{x}<br>y=%{y}<br>z=%{z}<br>energy=%{marker.size}<extra></extra>\", \"legendgroup\": \"2\", \"marker\": {\"color\": \"rgb(0, 2, 1)\", \"size\": [0.42978526967150527, 0.388645482790428, 0.09992205702044796, 0.161578255008429], \"sizemode\": \"area\", \"sizeref\": 0.010756011377621541, \"symbol\": \"circle\"}, \"mode\": \"markers\", \"name\": \"2\", \"scene\": \"scene\", \"showlegend\": true, \"type\": \"scatter3d\", \"x\": [3.747122360758583, 3.583607614277087, 3.980169831322717, 4.155157940201866], \"y\": [8.372584483538903, 8.645908988964438, 8.308525662166932, 9.015981101595685], \"z\": [-7.744134244679249, -7.275478581718637, -7.512692406864805, -7.570377737873803]}, {\"hovertemplate\": \"scluster=4<br>x=%{x}<br>y=%{y}<br>z=%{z}<br>energy=%{marker.size}<extra></extra>\", \"legendgroup\": \"4\", \"marker\": {\"color\": \"rgb(217, 3, 162)\", \"size\": [1.2902965133328734, 2.5391202379270172, 1.8328640205143871], \"sizemode\": \"area\", \"sizeref\": 0.010756011377621541, \"symbol\": \"circle\"}, \"mode\": \"markers\", \"name\": \"4\", \"scene\": \"scene\", \"showlegend\": true, \"type\": \"scatter3d\", \"x\": [-4.659852492078835, -4.461716741350367, -4.335336346260634], \"y\": [8.146553842862518, 8.570519179072097, 7.90215772787293], \"z\": [-1.4344198690236465, -1.4574122790592279, -1.1248801472931198]}, {\"hovertemplate\": \"scluster=3<br>x=%{x}<br>y=%{y}<br>z=%{z}<br>energy=%{marker.size}<extra></extra>\", \"legendgroup\": \"3\", \"marker\": {\"color\": \"rgb(160, 119, 85)\", \"size\": [0.09667193397581286, 0.08947373455409473], \"sizemode\": \"area\", \"sizeref\": 0.010756011377621541, \"symbol\": \"circle\"}, \"mode\": \"markers\", \"name\": \"3\", \"scene\": \"scene\", \"showlegend\": true, \"type\": \"scatter3d\", \"x\": [-9.288963211198677, -8.303050801301605], \"y\": [-0.8259066883269028, -0.062323723380688256], \"z\": [-8.663816149602269, -8.435694406468938]}, {\"hovertemplate\": \"scluster=0<br>x=%{x}<br>y=%{y}<br>z=%{z}<br>energy=%{marker.size}<extra></extra>\", \"legendgroup\": \"0\", \"marker\": {\"color\": \"rgb(88, 171, 0)\", \"size\": [0.2279602852565687, 0.42504782389848617, 1.3824684806004353, 2.4710948316955346, 1.3657537880341555, 0.22809879491763072, 0.6394091024293244, 0.17714472973756815, 2.7702349216920297, 0.12002655883513592], \"sizemode\": \"area\", \"sizeref\": 0.010756011377621541, \"symbol\": \"circle\"}, \"mode\": \"markers\", \"name\": \"0\", \"scene\": \"scene\", \"showlegend\": true, \"type\": \"scatter3d\", \"x\": [-1.3277291405415519, -0.7299720228653497, -1.2672240712740375, -0.8741204664330108, -1.3494747049385623, -0.48886323897019535, -0.5894431771858667, -1.0842716091320272, -0.8113505305142145, -1.0947989867513603], \"y\": [7.919986420338785, 7.812925233157332, 7.877444628091438, 7.755740473160473, 7.417056305538505, 7.570787674479599, 7.539100203038711, 7.999369894280981, 7.389630994203591, 8.106622487632082], \"z\": [8.906553833031117, 8.704173131074523, 8.771782487692821, 8.87984179865324, 8.590152317019436, 9.154081385820461, 9.398091860952295, 8.939019418871347, 8.801470693880924, 8.755608101279037]}, {\"hovertemplate\": \"scluster=18<br>x=%{x}<br>y=%{y}<br>z=%{z}<br>energy=%{marker.size}<extra></extra>\", \"legendgroup\": \"18\", \"marker\": {\"color\": \"rgb(241, 231, 225)\", \"size\": [2.2506201013570126, 1.197007991650822, 0.15667741055588671, 1.535066653054556, 0.34405497185342493, 0.932052683141432, 2.0983137240220366, 2.861283007292353], \"sizemode\": \"area\", \"sizeref\": 0.010756011377621541, \"symbol\": \"circle\"}, \"mode\": \"markers\", \"name\": \"18\", \"scene\": \"scene\", \"showlegend\": true, \"type\": \"scatter3d\", \"x\": [4.01486571137573, 3.9386681898090745, 4.229803122101432, 3.553339705654607, 3.806000711197539, 3.710150189279659, 3.9109534382075934, 3.5527157952267823], \"y\": [-5.523078329735644, -5.464961330855728, -5.719938972319974, -5.334466196280254, -5.613751167001297, -6.069766795479341, -4.701476923029557, -5.6715995376827975], \"z\": [2.2986873723684935, 2.3196931493885473, 2.197247768257026, 2.367544273527552, 2.8758647865112192, 2.356183241331949, 2.3270747527062348, 2.413957860196235]}, {\"hovertemplate\": \"scluster=12<br>x=%{x}<br>y=%{y}<br>z=%{z}<br>energy=%{marker.size}<extra></extra>\", \"legendgroup\": \"12\", \"marker\": {\"color\": \"rgb(154, 4, 255)\", \"size\": [0.4713731777565638, 0.7381010596283293], \"sizemode\": \"area\", \"sizeref\": 0.010756011377621541, \"symbol\": \"circle\"}, \"mode\": \"markers\", \"name\": \"12\", \"scene\": \"scene\", \"showlegend\": true, \"type\": \"scatter3d\", \"x\": [7.987722865141091, 7.314937966252949], \"y\": [-1.955548579989948, -1.7138407980833783], \"z\": [-3.35622001460469, -3.9458400568898475]}, {\"hovertemplate\": \"scluster=16<br>x=%{x}<br>y=%{y}<br>z=%{z}<br>energy=%{marker.size}<extra></extra>\", \"legendgroup\": \"16\", \"marker\": {\"color\": \"rgb(59, 67, 82)\", \"size\": [0.08880291714341777, 0.7752868462644507, 2.080134416041381, 0.05260861861366197, 0.17774753376313884, 0.18643174885918323], \"sizemode\": \"area\", \"sizeref\": 0.010756011377621541, \"symbol\": \"circle\"}, \"mode\": \"markers\", \"name\": \"16\", \"scene\": \"scene\", \"showlegend\": true, \"type\": \"scatter3d\", \"x\": [3.0405992763358065, 2.6337349562833077, 2.7495861866955753, 3.0464836507117843, 2.7562396541523113, 2.810749593138492], \"y\": [2.600148949840187, 2.3163632258161826, 1.9542367285758488, 2.4796058567888624, 2.7946887260992237, 2.1497345818413627], \"z\": [-8.32860338937494, -8.957695618296869, -8.887707249625835, -9.45519944712002, -8.811454549306747, -8.613940406600298]}, {\"hovertemplate\": \"scluster=19<br>x=%{x}<br>y=%{y}<br>z=%{z}<br>energy=%{marker.size}<extra></extra>\", \"legendgroup\": \"19\", \"marker\": {\"color\": \"rgb(141, 34, 0)\", \"size\": [0.0852817095123922, 0.14027756820139617, 1.6738793096171274, 2.156839935146326, 1.2984506627657866, 1.8965072208641631, 0.04799531830928188, 0.26546186251989834, 0.38251313979732016], \"sizemode\": \"area\", \"sizeref\": 0.010756011377621541, \"symbol\": \"circle\"}, \"mode\": \"markers\", \"name\": \"19\", \"scene\": \"scene\", \"showlegend\": true, \"type\": \"scatter3d\", \"x\": [-7.978682062577734, -8.111926554780513, -8.274189577883913, -7.893932785157135, -8.053198121340476, -7.547476444091789, -8.101820064526308, -7.962791598118858, -8.025751700435931], \"y\": [-4.380486618831175, -4.600252498097069, -4.758044837799755, -4.18524360073079, -5.470961818436713, -4.717067577666352, -4.4972066695756485, -4.904308439112584, -4.295910566157087], \"z\": [-4.284291205948684, -4.315774972441928, -4.32104346516545, -3.8858188529874274, -4.353208814209542, -4.797368072742422, -4.2072132452686235, -4.357135673238901, -3.894238618511303]}, {\"hovertemplate\": \"scluster=9<br>x=%{x}<br>y=%{y}<br>z=%{z}<br>energy=%{marker.size}<extra></extra>\", \"legendgroup\": \"9\", \"marker\": {\"color\": \"rgb(133, 218, 255)\", \"size\": [0.5828177494396032, 0.3781853260592976, 1.7361627944109177, 0.634954036674635, 1.050596002744473, 0.16930311331359094], \"sizemode\": \"area\", \"sizeref\": 0.010756011377621541, \"symbol\": \"circle\"}, \"mode\": \"markers\", \"name\": \"9\", \"scene\": \"scene\", \"showlegend\": true, \"type\": \"scatter3d\", \"x\": [7.641284695192997, 7.280193042003336, 7.064323078634734, 7.272088383486376, 7.240344109348042, 7.697800293169711], \"y\": [-3.3064483389353527, -3.2409845014627994, -3.310776294570755, -3.071885340084055, -3.4312412590283756, -3.5242147202342338], \"z\": [-3.5431523940838345, -3.4084135143318055, -4.0525938822035155, -4.195560279727628, -3.581206776902038, -3.068565244357466]}, {\"hovertemplate\": \"scluster=8<br>x=%{x}<br>y=%{y}<br>z=%{z}<br>energy=%{marker.size}<extra></extra>\", \"legendgroup\": \"8\", \"marker\": {\"color\": \"rgb(169, 255, 0)\", \"size\": [0.006661895616396744, 2.9416128929316443, 2.8590239885688913], \"sizemode\": \"area\", \"sizeref\": 0.010756011377621541, \"symbol\": \"circle\"}, \"mode\": \"markers\", \"name\": \"8\", \"scene\": \"scene\", \"showlegend\": true, \"type\": \"scatter3d\", \"x\": [-2.1429530367390055, -2.2151799245342283, -2.5758074258315045], \"y\": [-4.1162184758735485, -4.569312772809963, -4.241515349847232], \"z\": [7.986695817170869, 8.215199068303107, 8.622461917474388]}, {\"hovertemplate\": \"scluster=5<br>x=%{x}<br>y=%{y}<br>z=%{z}<br>energy=%{marker.size}<extra></extra>\", \"legendgroup\": \"5\", \"marker\": {\"color\": \"rgb(255, 139, 162)\", \"size\": [0.1306416090174862, 0.6014822984158212, 0.6995937421642929, 2.377343185753248, 0.15805120305069995, 0.43129566255006657], \"sizemode\": \"area\", \"sizeref\": 0.010756011377621541, \"symbol\": \"circle\"}, \"mode\": \"markers\", \"name\": \"5\", \"scene\": \"scene\", \"showlegend\": true, \"type\": \"scatter3d\", \"x\": [5.669338817463838, 5.50835890020897, 4.392128439694518, 5.09858209975292, 5.02121717375288, 4.91288445376567], \"y\": [-5.852138810916049, -5.899073569096358, -6.653503613826689, -6.010613036318818, -5.937986103189325, -5.8981556652315], \"z\": [0.13666779536559098, -0.3661435109714682, -0.3607799028649294, -0.023947634660295022, -0.5545728423527673, -0.3962749078524689]}, {\"hovertemplate\": \"scluster=7<br>x=%{x}<br>y=%{y}<br>z=%{z}<br>energy=%{marker.size}<extra></extra>\", \"legendgroup\": \"7\", \"marker\": {\"color\": \"rgb(110, 137, 255)\", \"size\": [0.774347430390951], \"sizemode\": \"area\", \"sizeref\": 0.010756011377621541, \"symbol\": \"circle\"}, \"mode\": \"markers\", \"name\": \"7\", \"scene\": \"scene\", \"showlegend\": true, \"type\": \"scatter3d\", \"x\": [2.688341444215846], \"y\": [-7.369472783436946], \"z\": [7.515107659719265]}],                        {\"legend\": {\"itemsizing\": \"constant\", \"title\": {\"text\": \"scluster\"}, \"tracegroupgap\": 0}, \"margin\": {\"t\": 60}, \"scene\": {\"domain\": {\"x\": [0.0, 1.0], \"y\": [0.0, 1.0]}, \"xaxis\": {\"title\": {\"text\": \"x\"}}, \"yaxis\": {\"title\": {\"text\": \"y\"}}, \"zaxis\": {\"title\": {\"text\": \"z\"}}}, \"template\": {\"data\": {\"bar\": [{\"error_x\": {\"color\": \"#2a3f5f\"}, \"error_y\": {\"color\": \"#2a3f5f\"}, \"marker\": {\"line\": {\"color\": \"#E5ECF6\", \"width\": 0.5}}, \"type\": \"bar\"}], \"barpolar\": [{\"marker\": {\"line\": {\"color\": \"#E5ECF6\", \"width\": 0.5}}, \"type\": \"barpolar\"}], \"carpet\": [{\"aaxis\": {\"endlinecolor\": \"#2a3f5f\", \"gridcolor\": \"white\", \"linecolor\": \"white\", \"minorgridcolor\": \"white\", \"startlinecolor\": \"#2a3f5f\"}, \"baxis\": {\"endlinecolor\": \"#2a3f5f\", \"gridcolor\": \"white\", \"linecolor\": \"white\", \"minorgridcolor\": \"white\", \"startlinecolor\": \"#2a3f5f\"}, \"type\": \"carpet\"}], \"choropleth\": [{\"colorbar\": {\"outlinewidth\": 0, \"ticks\": \"\"}, \"type\": \"choropleth\"}], \"contour\": [{\"colorbar\": {\"outlinewidth\": 0, \"ticks\": \"\"}, \"colorscale\": [[0.0, \"#0d0887\"], [0.1111111111111111, \"#46039f\"], [0.2222222222222222, \"#7201a8\"], [0.3333333333333333, \"#9c179e\"], [0.4444444444444444, \"#bd3786\"], [0.5555555555555556, \"#d8576b\"], [0.6666666666666666, \"#ed7953\"], [0.7777777777777778, \"#fb9f3a\"], [0.8888888888888888, \"#fdca26\"], [1.0, \"#f0f921\"]], \"type\": \"contour\"}], \"contourcarpet\": [{\"colorbar\": {\"outlinewidth\": 0, \"ticks\": \"\"}, \"type\": \"contourcarpet\"}], \"heatmap\": [{\"colorbar\": {\"outlinewidth\": 0, \"ticks\": \"\"}, \"colorscale\": [[0.0, \"#0d0887\"], [0.1111111111111111, \"#46039f\"], [0.2222222222222222, \"#7201a8\"], [0.3333333333333333, \"#9c179e\"], [0.4444444444444444, \"#bd3786\"], [0.5555555555555556, \"#d8576b\"], [0.6666666666666666, \"#ed7953\"], [0.7777777777777778, \"#fb9f3a\"], [0.8888888888888888, \"#fdca26\"], [1.0, \"#f0f921\"]], \"type\": \"heatmap\"}], \"heatmapgl\": [{\"colorbar\": {\"outlinewidth\": 0, \"ticks\": \"\"}, \"colorscale\": [[0.0, \"#0d0887\"], [0.1111111111111111, \"#46039f\"], [0.2222222222222222, \"#7201a8\"], [0.3333333333333333, \"#9c179e\"], [0.4444444444444444, \"#bd3786\"], [0.5555555555555556, \"#d8576b\"], [0.6666666666666666, \"#ed7953\"], [0.7777777777777778, \"#fb9f3a\"], [0.8888888888888888, \"#fdca26\"], [1.0, \"#f0f921\"]], \"type\": \"heatmapgl\"}], \"histogram\": [{\"marker\": {\"colorbar\": {\"outlinewidth\": 0, \"ticks\": \"\"}}, \"type\": \"histogram\"}], \"histogram2d\": [{\"colorbar\": {\"outlinewidth\": 0, \"ticks\": \"\"}, \"colorscale\": [[0.0, \"#0d0887\"], [0.1111111111111111, \"#46039f\"], [0.2222222222222222, \"#7201a8\"], [0.3333333333333333, \"#9c179e\"], [0.4444444444444444, \"#bd3786\"], [0.5555555555555556, \"#d8576b\"], [0.6666666666666666, \"#ed7953\"], [0.7777777777777778, \"#fb9f3a\"], [0.8888888888888888, \"#fdca26\"], [1.0, \"#f0f921\"]], \"type\": \"histogram2d\"}], \"histogram2dcontour\": [{\"colorbar\": {\"outlinewidth\": 0, \"ticks\": \"\"}, \"colorscale\": [[0.0, \"#0d0887\"], [0.1111111111111111, \"#46039f\"], [0.2222222222222222, \"#7201a8\"], [0.3333333333333333, \"#9c179e\"], [0.4444444444444444, \"#bd3786\"], [0.5555555555555556, \"#d8576b\"], [0.6666666666666666, \"#ed7953\"], [0.7777777777777778, \"#fb9f3a\"], [0.8888888888888888, \"#fdca26\"], [1.0, \"#f0f921\"]], \"type\": \"histogram2dcontour\"}], \"mesh3d\": [{\"colorbar\": {\"outlinewidth\": 0, \"ticks\": \"\"}, \"type\": \"mesh3d\"}], \"parcoords\": [{\"line\": {\"colorbar\": {\"outlinewidth\": 0, \"ticks\": \"\"}}, \"type\": \"parcoords\"}], \"pie\": [{\"automargin\": true, \"type\": \"pie\"}], \"scatter\": [{\"marker\": {\"colorbar\": {\"outlinewidth\": 0, \"ticks\": \"\"}}, \"type\": \"scatter\"}], \"scatter3d\": [{\"line\": {\"colorbar\": {\"outlinewidth\": 0, \"ticks\": \"\"}}, \"marker\": {\"colorbar\": {\"outlinewidth\": 0, \"ticks\": \"\"}}, \"type\": \"scatter3d\"}], \"scattercarpet\": [{\"marker\": {\"colorbar\": {\"outlinewidth\": 0, \"ticks\": \"\"}}, \"type\": \"scattercarpet\"}], \"scattergeo\": [{\"marker\": {\"colorbar\": {\"outlinewidth\": 0, \"ticks\": \"\"}}, \"type\": \"scattergeo\"}], \"scattergl\": [{\"marker\": {\"colorbar\": {\"outlinewidth\": 0, \"ticks\": \"\"}}, \"type\": \"scattergl\"}], \"scattermapbox\": [{\"marker\": {\"colorbar\": {\"outlinewidth\": 0, \"ticks\": \"\"}}, \"type\": \"scattermapbox\"}], \"scatterpolar\": [{\"marker\": {\"colorbar\": {\"outlinewidth\": 0, \"ticks\": \"\"}}, \"type\": \"scatterpolar\"}], \"scatterpolargl\": [{\"marker\": {\"colorbar\": {\"outlinewidth\": 0, \"ticks\": \"\"}}, \"type\": \"scatterpolargl\"}], \"scatterternary\": [{\"marker\": {\"colorbar\": {\"outlinewidth\": 0, \"ticks\": \"\"}}, \"type\": \"scatterternary\"}], \"surface\": [{\"colorbar\": {\"outlinewidth\": 0, \"ticks\": \"\"}, \"colorscale\": [[0.0, \"#0d0887\"], [0.1111111111111111, \"#46039f\"], [0.2222222222222222, \"#7201a8\"], [0.3333333333333333, \"#9c179e\"], [0.4444444444444444, \"#bd3786\"], [0.5555555555555556, \"#d8576b\"], [0.6666666666666666, \"#ed7953\"], [0.7777777777777778, \"#fb9f3a\"], [0.8888888888888888, \"#fdca26\"], [1.0, \"#f0f921\"]], \"type\": \"surface\"}], \"table\": [{\"cells\": {\"fill\": {\"color\": \"#EBF0F8\"}, \"line\": {\"color\": \"white\"}}, \"header\": {\"fill\": {\"color\": \"#C8D4E3\"}, \"line\": {\"color\": \"white\"}}, \"type\": \"table\"}]}, \"layout\": {\"annotationdefaults\": {\"arrowcolor\": \"#2a3f5f\", \"arrowhead\": 0, \"arrowwidth\": 1}, \"coloraxis\": {\"colorbar\": {\"outlinewidth\": 0, \"ticks\": \"\"}}, \"colorscale\": {\"diverging\": [[0, \"#8e0152\"], [0.1, \"#c51b7d\"], [0.2, \"#de77ae\"], [0.3, \"#f1b6da\"], [0.4, \"#fde0ef\"], [0.5, \"#f7f7f7\"], [0.6, \"#e6f5d0\"], [0.7, \"#b8e186\"], [0.8, \"#7fbc41\"], [0.9, \"#4d9221\"], [1, \"#276419\"]], \"sequential\": [[0.0, \"#0d0887\"], [0.1111111111111111, \"#46039f\"], [0.2222222222222222, \"#7201a8\"], [0.3333333333333333, \"#9c179e\"], [0.4444444444444444, \"#bd3786\"], [0.5555555555555556, \"#d8576b\"], [0.6666666666666666, \"#ed7953\"], [0.7777777777777778, \"#fb9f3a\"], [0.8888888888888888, \"#fdca26\"], [1.0, \"#f0f921\"]], \"sequentialminus\": [[0.0, \"#0d0887\"], [0.1111111111111111, \"#46039f\"], [0.2222222222222222, \"#7201a8\"], [0.3333333333333333, \"#9c179e\"], [0.4444444444444444, \"#bd3786\"], [0.5555555555555556, \"#d8576b\"], [0.6666666666666666, \"#ed7953\"], [0.7777777777777778, \"#fb9f3a\"], [0.8888888888888888, \"#fdca26\"], [1.0, \"#f0f921\"]]}, \"colorway\": [\"#636efa\", \"#EF553B\", \"#00cc96\", \"#ab63fa\", \"#FFA15A\", \"#19d3f3\", \"#FF6692\", \"#B6E880\", \"#FF97FF\", \"#FECB52\"], \"font\": {\"color\": \"#2a3f5f\"}, \"geo\": {\"bgcolor\": \"white\", \"lakecolor\": \"white\", \"landcolor\": \"#E5ECF6\", \"showlakes\": true, \"showland\": true, \"subunitcolor\": \"white\"}, \"hoverlabel\": {\"align\": \"left\"}, \"hovermode\": \"closest\", \"mapbox\": {\"style\": \"light\"}, \"paper_bgcolor\": \"white\", \"plot_bgcolor\": \"#E5ECF6\", \"polar\": {\"angularaxis\": {\"gridcolor\": \"white\", \"linecolor\": \"white\", \"ticks\": \"\"}, \"bgcolor\": \"#E5ECF6\", \"radialaxis\": {\"gridcolor\": \"white\", \"linecolor\": \"white\", \"ticks\": \"\"}}, \"scene\": {\"xaxis\": {\"backgroundcolor\": \"#E5ECF6\", \"gridcolor\": \"white\", \"gridwidth\": 2, \"linecolor\": \"white\", \"showbackground\": true, \"ticks\": \"\", \"zerolinecolor\": \"white\"}, \"yaxis\": {\"backgroundcolor\": \"#E5ECF6\", \"gridcolor\": \"white\", \"gridwidth\": 2, \"linecolor\": \"white\", \"showbackground\": true, \"ticks\": \"\", \"zerolinecolor\": \"white\"}, \"zaxis\": {\"backgroundcolor\": \"#E5ECF6\", \"gridcolor\": \"white\", \"gridwidth\": 2, \"linecolor\": \"white\", \"showbackground\": true, \"ticks\": \"\", \"zerolinecolor\": \"white\"}}, \"shapedefaults\": {\"line\": {\"color\": \"#2a3f5f\"}}, \"ternary\": {\"aaxis\": {\"gridcolor\": \"white\", \"linecolor\": \"white\", \"ticks\": \"\"}, \"baxis\": {\"gridcolor\": \"white\", \"linecolor\": \"white\", \"ticks\": \"\"}, \"bgcolor\": \"#E5ECF6\", \"caxis\": {\"gridcolor\": \"white\", \"linecolor\": \"white\", \"ticks\": \"\"}}, \"title\": {\"x\": 0.05}, \"xaxis\": {\"automargin\": true, \"gridcolor\": \"white\", \"linecolor\": \"white\", \"ticks\": \"\", \"title\": {\"standoff\": 15}, \"zerolinecolor\": \"white\", \"zerolinewidth\": 2}, \"yaxis\": {\"automargin\": true, \"gridcolor\": \"white\", \"linecolor\": \"white\", \"ticks\": \"\", \"title\": {\"standoff\": 15}, \"zerolinecolor\": \"white\", \"zerolinewidth\": 2}}}},                        {\"responsive\": true}                    ).then(function(){\n                            \nvar gd = document.getElementById('043f91f8-6c85-4a37-b639-bb7ff6df3296');\nvar x = new MutationObserver(function (mutations, observer) {{\n        var display = window.getComputedStyle(gd).display;\n        if (!display || display === 'none') {{\n            console.log([gd, 'removed!']);\n            Plotly.purge(gd);\n            observer.disconnect();\n        }}\n}});\n\n// Listen for the removal of the full notebook cells\nvar notebookContainer = gd.closest('#notebook-container');\nif (notebookContainer) {{\n    x.observe(notebookContainer, {childList: true});\n}}\n\n// Listen for the clearing of the current output cell\nvar outputEl = gd.closest('.output');\nif (outputEl) {{\n    x.observe(outputEl, {childList: true});\n}}\n\n                        })                };                });            </script>        </div>"
     },
     "metadata": {}
    }
   ],
   "source": [
    "plot_df = events[1]\n",
    "plot_df['scluster'] = plot_df['cluster'].astype(str)\n",
    "px.scatter_3d(plot_df, x='x', y='y', z='z', color='scluster', size='energy', color_discrete_sequence=get_palette(plot_df['cluster']))"
   ]
  }
 ]
}