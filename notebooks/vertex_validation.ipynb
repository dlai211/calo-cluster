{
 "cells": [
  {
   "cell_type": "code",
   "execution_count": 6,
   "metadata": {},
   "outputs": [],
   "source": [
    "from hgcal_dev.datasets.vertex import VertexDataModule\n",
    "import numpy as np\n",
    "import pandas as pd\n",
    "import torch\n",
    "import plotly\n",
    "import plotly.express as px\n",
    "from pathlib import Path\n",
    "from hdbscan import HDBSCAN\n",
    "from hgcal_dev.metrics.instance import match_instances\n",
    "from tqdm import tqdm\n",
    "from sklearn.manifold import TSNE\n",
    "from omegaconf import OmegaConf\n",
    "import hydra\n",
    "from hydra.experimental import initialize, compose\n",
    "from sklearn.cluster import MeanShift\n",
    "from hgcal_dev.metrics.instance import PanopticQuality\n",
    "from tqdm import tqdm"
   ]
  },
  {
   "cell_type": "code",
   "execution_count": 7,
   "metadata": {},
   "outputs": [],
   "source": [
    "def clean_events():\n",
    "    clean_path = Path('/home/alexj/data/hgcal-dev/vertex/clean')\n",
    "    data_path = Path('/home/alexj/data/hgcal-dev/vertex/data')\n",
    "    for path in tqdm(data_path.glob('*.pkl')):\n",
    "        df = pd.read_pickle(path)\n",
    "        clusters = df['vertex_id'].unique()\n",
    "        output_path = clean_path / path.name\n",
    "        good_clusters = []\n",
    "        for c in clusters:\n",
    "            if df.loc[(df['vertex_id'] == c), 'Z'].unique().shape[0] == 1:\n",
    "                good_clusters.append(c)\n",
    "        clean_df = df[np.isin(df['vertex_id'], good_clusters)]\n",
    "        clean_df.reset_index(inpalce=True, drop=True)\n",
    "        if clean_df.shape[0] > 0:\n",
    "            clean_df.to_pickle(output_path)\n"
   ]
  },
  {
   "cell_type": "code",
   "execution_count": 30,
   "metadata": {},
   "outputs": [
    {
     "output_type": "stream",
     "name": "stderr",
     "text": [
      "1078it [01:28, 13.00it/s]"
     ]
    }
   ],
   "source": [
    "clean_events()"
   ]
  },
  {
   "cell_type": "code",
   "execution_count": 1,
   "metadata": {},
   "outputs": [
    {
     "output_type": "error",
     "ename": "NameError",
     "evalue": "name 'Path' is not defined",
     "traceback": [
      "\u001b[0;31m---------------------------------------------------------------------------\u001b[0m",
      "\u001b[0;31mNameError\u001b[0m                                 Traceback (most recent call last)",
      "\u001b[0;32m<ipython-input-1-ad9ad1287c00>\u001b[0m in \u001b[0;36m<module>\u001b[0;34m\u001b[0m\n\u001b[0;32m----> 1\u001b[0;31m \u001b[0mdata_path\u001b[0m \u001b[0;34m=\u001b[0m \u001b[0mPath\u001b[0m\u001b[0;34m(\u001b[0m\u001b[0;34m'/home/alexj/data/hgcal-dev/vertex/clean'\u001b[0m\u001b[0;34m)\u001b[0m\u001b[0;34m\u001b[0m\u001b[0;34m\u001b[0m\u001b[0m\n\u001b[0m\u001b[1;32m      2\u001b[0m \u001b[0mdfs\u001b[0m \u001b[0;34m=\u001b[0m \u001b[0;34m[\u001b[0m\u001b[0mpd\u001b[0m\u001b[0;34m.\u001b[0m\u001b[0mread_pickle\u001b[0m\u001b[0;34m(\u001b[0m\u001b[0mf\u001b[0m\u001b[0;34m)\u001b[0m \u001b[0;32mfor\u001b[0m \u001b[0mf\u001b[0m \u001b[0;32min\u001b[0m \u001b[0;34m[\u001b[0m\u001b[0me\u001b[0m \u001b[0;32mfor\u001b[0m \u001b[0me\u001b[0m \u001b[0;32min\u001b[0m \u001b[0mdata_path\u001b[0m\u001b[0;34m.\u001b[0m\u001b[0mglob\u001b[0m\u001b[0;34m(\u001b[0m\u001b[0;34m'*.pkl'\u001b[0m\u001b[0;34m)\u001b[0m\u001b[0;34m]\u001b[0m\u001b[0;34m[\u001b[0m\u001b[0;34m:\u001b[0m\u001b[0;36m10\u001b[0m\u001b[0;34m]\u001b[0m\u001b[0;34m]\u001b[0m\u001b[0;34m\u001b[0m\u001b[0;34m\u001b[0m\u001b[0m\n\u001b[1;32m      3\u001b[0m \u001b[0;31m#df = pd.concat(dfs, ignore_index=True)\u001b[0m\u001b[0;34m\u001b[0m\u001b[0;34m\u001b[0m\u001b[0;34m\u001b[0m\u001b[0m\n",
      "\u001b[0;31mNameError\u001b[0m: name 'Path' is not defined"
     ]
    }
   ],
   "source": [
    "data_path = Path('/home/alexj/data/hgcal-dev/vertex/clean')\n",
    "dfs = [pd.read_pickle(f) for f in [e for e in data_path.glob('*.pkl')][:10]]\n",
    "#df = pd.concat(dfs, ignore_index=True)"
   ]
  },
  {
   "cell_type": "code",
   "execution_count": null,
   "metadata": {},
   "outputs": [],
   "source": [
    "def frac(df):\n",
    "    clusters = df['vertex_id'].unique()\n",
    "    return sum((df.loc[(df['vertex_id'] == c), 'Z'].unique().shape[0] == 1) for c in clusters) / clusters.shape[0]"
   ]
  },
  {
   "cell_type": "code",
   "execution_count": null,
   "metadata": {},
   "outputs": [],
   "source": [
    "sum(frac(df) for df in dfs) / len(dfs)"
   ]
  },
  {
   "cell_type": "code",
   "execution_count": null,
   "metadata": {},
   "outputs": [],
   "source": [
    "clusterer = MeanShift(bandwidth=0.004)"
   ]
  },
  {
   "source": [
    "pred = clusterer.fit_predict(dfs[0]['vertex_id'].values.reshape(-1, 1))"
   ],
   "cell_type": "code",
   "metadata": {},
   "execution_count": null,
   "outputs": []
  },
  {
   "cell_type": "code",
   "execution_count": null,
   "metadata": {},
   "outputs": [],
   "source": [
    "plot_df = pd.DataFrame({'true': dfs[0]['vertex_id'], 'pred': pred, 'Z': dfs[0]['Z']})"
   ]
  },
  {
   "cell_type": "code",
   "execution_count": null,
   "metadata": {},
   "outputs": [],
   "source": [
    "pqs = []\n",
    "for df in dfs:\n",
    "    pred = clusterer.fit_predict(df['vertex_id'].values.reshape(-1, 1))\n",
    "    metric = PanopticQuality(num_classes=1, semantic=False)\n",
    "    metric.add(outputs=pred, targets=df['vertex_id'].values)\n",
    "    metrics = metric.compute()\n",
    "    pqs.append(metrics['pq'])"
   ]
  },
  {
   "cell_type": "code",
   "execution_count": null,
   "metadata": {
    "tags": []
   },
   "outputs": [],
   "source": [
    "pqs"
   ]
  },
  {
   "cell_type": "code",
   "execution_count": 21,
   "metadata": {},
   "outputs": [
    {
     "output_type": "execute_result",
     "data": {
      "text/plain": [
       "-1064532.9"
      ]
     },
     "metadata": {},
     "execution_count": 21
    }
   ],
   "source": [
    "df['Z'].min()"
   ]
  },
  {
   "cell_type": "code",
   "execution_count": 26,
   "metadata": {},
   "outputs": [
    {
     "output_type": "execute_result",
     "data": {
      "text/plain": [
       "1.1529221532550595e-05"
      ]
     },
     "metadata": {},
     "execution_count": 26
    }
   ],
   "source": [
    "(df['Z'] > 1e6).sum() / df.shape[0] * 100"
   ]
  },
  {
   "cell_type": "code",
   "execution_count": null,
   "metadata": {},
   "outputs": [],
   "source": []
  }
 ],
 "metadata": {
  "kernelspec": {
   "name": "python3",
   "display_name": "Python 3",
   "language": "python"
  },
  "language_info": {
   "codemirror_mode": {
    "name": "ipython",
    "version": 3
   },
   "file_extension": ".py",
   "mimetype": "text/x-python",
   "name": "python",
   "nbconvert_exporter": "python",
   "pygments_lexer": "ipython3",
   "version": "3.8.5-final"
  }
 },
 "nbformat": 4,
 "nbformat_minor": 4
}