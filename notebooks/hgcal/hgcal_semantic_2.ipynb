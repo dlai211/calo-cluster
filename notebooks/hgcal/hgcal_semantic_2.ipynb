{
 "metadata": {
  "language_info": {
   "codemirror_mode": {
    "name": "ipython",
    "version": 3
   },
   "file_extension": ".py",
   "mimetype": "text/x-python",
   "name": "python",
   "nbconvert_exporter": "python",
   "pygments_lexer": "ipython3",
   "version": "3.8.5-final"
  },
  "orig_nbformat": 2,
  "kernelspec": {
   "name": "python3",
   "display_name": "Python 3",
   "language": "python"
  }
 },
 "nbformat": 4,
 "nbformat_minor": 2,
 "cells": [
  {
   "cell_type": "code",
   "execution_count": 1,
   "metadata": {},
   "outputs": [],
   "source": [
    "import sys\n",
    "sys.path.append('/home/alexj/hgcal-dev')"
   ]
  },
  {
   "cell_type": "code",
   "execution_count": 2,
   "metadata": {},
   "outputs": [],
   "source": [
    "from hgcal_dev.visualization.hgcal import Event\n",
    "import numpy as np\n",
    "import pandas as pd\n",
    "import torch\n",
    "from hgcal_dev.utils.experiment import Experiment\n",
    "from pathlib import Path\n",
    "from hgcal_dev.clustering.meanshift import MeanShift\n",
    "from tqdm import tqdm"
   ]
  },
  {
   "cell_type": "code",
   "execution_count": 3,
   "metadata": {},
   "outputs": [
    {
     "output_type": "stream",
     "name": "stderr",
     "text": [
      "ERROR:wandb.jupyter:Failed to query for notebook name, you can set it manually with the WANDB_NOTEBOOK_NAME environment variable\n",
      "\u001b[34m\u001b[1mwandb\u001b[0m: Currently logged in as: \u001b[33malexschuy\u001b[0m (use `wandb login --relogin` to force relogin)\n"
     ]
    },
    {
     "output_type": "display_data",
     "data": {
      "text/plain": "<IPython.core.display.HTML object>",
      "text/html": "\n                Tracking run with wandb version 0.10.14<br/>\n                Resuming run <strong style=\"color:#cdcd00\">hgcal_semantic</strong> to <a href=\"https://wandb.ai\" target=\"_blank\">Weights & Biases</a> <a href=\"https://docs.wandb.com/integrations/jupyter.html\" target=\"_blank\">(Documentation)</a>.<br/>\n                Project page: <a href=\"https://wandb.ai/uw-hgcal/hgcal-spvcnn\" target=\"_blank\">https://wandb.ai/uw-hgcal/hgcal-spvcnn</a><br/>\n                Run page: <a href=\"https://wandb.ai/uw-hgcal/hgcal-spvcnn/runs/2tp2l5gx\" target=\"_blank\">https://wandb.ai/uw-hgcal/hgcal-spvcnn/runs/2tp2l5gx</a><br/>\n                Run data is saved locally in <code>/home/alexj/hgcal-dev/notebooks/wandb/run-20210121_010029-2tp2l5gx</code><br/><br/>\n            "
     },
     "metadata": {}
    }
   ],
   "source": [
    "run_path = Path('/home/alexj/outputs/wandb/run-2tp2l5gx')\n",
    "experiment = Experiment(run_path)"
   ]
  },
  {
   "cell_type": "code",
   "execution_count": 4,
   "metadata": {},
   "outputs": [],
   "source": [
    "def get_events(split, n=-1):\n",
    "    if split == 'train':\n",
    "        dataloader = experiment.datamodule.train_dataloader()\n",
    "    elif split == 'val':\n",
    "        dataloader = experiment.datamodule.val_dataloader()\n",
    "    elif split == 'test':\n",
    "        dataloader = experiment.datamodule.test_dataloader()\n",
    "    if n == -1:\n",
    "        input_paths = dataloader.dataset.events\n",
    "    else:\n",
    "        input_paths = dataloader.dataset.events[:n]\n",
    "    events = []\n",
    "    for input_path in tqdm(input_paths):\n",
    "        pred_dir = experiment.run_prediction_dir / split\n",
    "        event_name = input_path.stem\n",
    "        pred_path = pred_dir / f'{event_name}.npz'\n",
    "        events.append(Event(input_path, pred_path=pred_path, task='semantic'))\n",
    "    return events"
   ]
  },
  {
   "cell_type": "code",
   "execution_count": 5,
   "metadata": {},
   "outputs": [
    {
     "output_type": "stream",
     "name": "stderr",
     "text": [
      "100%|██████████| 100/100 [00:00<00:00, 287.58it/s]\n"
     ]
    }
   ],
   "source": [
    "events = get_events('train', n=100)"
   ]
  },
  {
   "cell_type": "code",
   "execution_count": 11,
   "metadata": {},
   "outputs": [
    {
     "output_type": "execute_result",
     "data": {
      "text/plain": [
       "(array([0, 1, 2]), array([19499,    45,  2202]))"
      ]
     },
     "metadata": {},
     "execution_count": 11
    }
   ],
   "source": [
    "np.unique(events[0].pred_class_labels, return_counts=True)"
   ]
  },
  {
   "cell_type": "code",
   "execution_count": 13,
   "metadata": {},
   "outputs": [
    {
     "output_type": "execute_result",
     "data": {
      "text/plain": [
       "(array([0, 1, 2]), array([19492,   325,  1929]))"
      ]
     },
     "metadata": {},
     "execution_count": 13
    }
   ],
   "source": [
    "np.unique(events[0].input_event['labels'], return_counts=True)"
   ]
  },
  {
   "cell_type": "code",
   "execution_count": 15,
   "metadata": {},
   "outputs": [
    {
     "output_type": "execute_result",
     "data": {
      "text/plain": [
       "array([0.96932769])"
      ]
     },
     "metadata": {},
     "execution_count": 15
    }
   ],
   "source": [
    "(events[0].pred_class_labels == events[0].input_event['labels']).sum() / events[0].pred_class_labels.shape"
   ]
  },
  {
   "cell_type": "code",
   "execution_count": null,
   "metadata": {},
   "outputs": [],
   "source": []
  }
 ]
}