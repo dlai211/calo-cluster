{
 "metadata": {
  "language_info": {
   "codemirror_mode": {
    "name": "ipython",
    "version": 3
   },
   "file_extension": ".py",
   "mimetype": "text/x-python",
   "name": "python",
   "nbconvert_exporter": "python",
   "pygments_lexer": "ipython3",
   "version": "3.8.5"
  },
  "orig_nbformat": 2,
  "kernelspec": {
   "name": "python385jvsc74a57bd0cb9f4ee5f483ad69f0f0fc0cffdef4872b01483cf3cd2db0fb5ca4081494e515",
   "display_name": "Python 3.8.5 64-bit ('hgcal_dev': conda)"
  }
 },
 "nbformat": 4,
 "nbformat_minor": 2,
 "cells": [
  {
   "source": [
    "from hgcal_dev.evaluation.experiments.hcal_experiment import HCalExperiment\n",
    "from hgcal_dev.evaluation.experiments.antikt_hcal_experiment import AntiKtHCalExperiment\n",
    "from hgcal_dev.evaluation.studies.base_study import BaseStudy\n",
    "from hgcal_dev.evaluation.studies.clustering_study import ClusteringStudy\n",
    "from hgcal_dev.evaluation.studies.semantic_study import SemanticStudy\n",
    "from hgcal_dev.clustering.meanshift import MeanShift\n",
    "from tqdm import tqdm\n",
    "import numpy as np"
   ],
   "cell_type": "code",
   "metadata": {},
   "execution_count": 5,
   "outputs": []
  },
  {
   "cell_type": "code",
   "execution_count": 2,
   "metadata": {},
   "outputs": [
    {
     "output_type": "stream",
     "name": "stderr",
     "text": [
      "/home/alexj/hgcal-dev/hgcal_dev/evaluation/experiments/base_experiment.py:113: YAMLLoadWarning: calling yaml.load() without Loader=... is deprecated, as the default Loader is unsafe. Please read https://msg.pyyaml.org/load for full details.\n",
      "  config = yaml.load(f)\n",
      "Global seed set to 1285852687\n",
      "INFO:lightning:Global seed set to 1285852687\n"
     ]
    }
   ],
   "source": [
    "exp = HCalExperiment('fjhb75sl', 'epoch=6-step=6515.ckpt')"
   ]
  },
  {
   "cell_type": "code",
   "execution_count": 3,
   "metadata": {},
   "outputs": [
    {
     "output_type": "stream",
     "name": "stderr",
     "text": [
      "100%|██████████| 29761/29761 [00:56<00:00, 527.65it/s]\n"
     ]
    }
   ],
   "source": [
    "evts = exp.get_events('train')"
   ]
  },
  {
   "cell_type": "code",
   "execution_count": 6,
   "metadata": {},
   "outputs": [],
   "source": [
    "energy = np.concatenate([e.input_event['energy'].values for e in evts])"
   ]
  },
  {
   "cell_type": "code",
   "execution_count": 7,
   "metadata": {},
   "outputs": [
    {
     "output_type": "stream",
     "name": "stdout",
     "text": [
      "0.8550347\n2.6777613\n"
     ]
    }
   ],
   "source": [
    "print(np.mean(energy))\n",
    "print(np.std(energy))"
   ]
  },
  {
   "cell_type": "code",
   "execution_count": 3,
   "metadata": {},
   "outputs": [],
   "source": [
    "cs = ClusteringStudy(exp)"
   ]
  },
  {
   "cell_type": "code",
   "execution_count": 4,
   "metadata": {},
   "outputs": [
    {
     "output_type": "stream",
     "name": "stderr",
     "text": [
      "Global seed set to 929499420\n",
      "INFO:lightning:Global seed set to 929499420\n",
      "3720it [05:02, 12.29it/s]\n",
      "3721it [04:54, 12.62it/s]\n",
      "29761it [38:42, 12.81it/s]\n",
      "100%|██████████| 100/100 [00:00<00:00, 521.09it/s]\n",
      "100%|██████████| 100/100 [00:04<00:00, 20.51it/s]{'sq': array([0.82943886, 0.92106506]), 'rq': array([0.36790376, 0.57968359]), 'pq': 0.4256002515450833, 'tq': array([1.        , 0.62089248]), 'wrq': array([0.93136496, 0.57264198]), 'wpq': 0.6518609796778263, 'wtq': array([1.        , 0.57982828])}\n",
      "\n"
     ]
    }
   ],
   "source": [
    "pq = cs.pq()\n",
    "print(pq)"
   ]
  },
  {
   "cell_type": "code",
   "execution_count": 5,
   "metadata": {},
   "outputs": [
    {
     "output_type": "stream",
     "name": "stderr",
     "text": [
      "100%|██████████| 3721/3721 [00:06<00:00, 551.16it/s]\n",
      "100%|██████████| 3721/3721 [02:42<00:00, 22.85it/s]\n"
     ]
    }
   ],
   "source": [
    "cs.resolution(nevents=-1, splits=['val'])"
   ]
  },
  {
   "cell_type": "code",
   "execution_count": null,
   "metadata": {
    "tags": []
   },
   "outputs": [],
   "source": [
    "bs.bandwidth_study(nevents=10, niter=100, xh=0., stepsize=0.05)"
   ]
  }
 ]
}