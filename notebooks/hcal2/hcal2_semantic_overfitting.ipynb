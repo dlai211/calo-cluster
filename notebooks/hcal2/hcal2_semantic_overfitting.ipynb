{
 "metadata": {
  "language_info": {
   "codemirror_mode": {
    "name": "ipython",
    "version": 3
   },
   "file_extension": ".py",
   "mimetype": "text/x-python",
   "name": "python",
   "nbconvert_exporter": "python",
   "pygments_lexer": "ipython3",
   "version": "3.8.5"
  },
  "orig_nbformat": 2,
  "kernelspec": {
   "name": "python3",
   "display_name": "Python 3.8.5 64-bit ('hgcal_dev': conda)",
   "metadata": {
    "interpreter": {
     "hash": "cb9f4ee5f483ad69f0f0fc0cffdef4872b01483cf3cd2db0fb5ca4081494e515"
    }
   }
  }
 },
 "nbformat": 4,
 "nbformat_minor": 2,
 "cells": [
  {
   "cell_type": "code",
   "execution_count": 2,
   "metadata": {},
   "outputs": [],
   "source": [
    "from hgcal_dev.evaluation.experiments.hcal_experiment import HCalExperiment\n",
    "from hgcal_dev.evaluation.studies.base_study import BaseStudy"
   ]
  },
  {
   "cell_type": "code",
   "execution_count": 4,
   "metadata": {},
   "outputs": [
    {
     "output_type": "stream",
     "name": "stderr",
     "text": [
      "Global seed set to 2417289347\n",
      "INFO:lightning:Global seed set to 2417289347\n"
     ]
    }
   ],
   "source": [
    "exp = HCalExperiment('1ijz35yc', 'epoch=14-step=55813.ckpt')"
   ]
  },
  {
   "cell_type": "code",
   "execution_count": 5,
   "metadata": {},
   "outputs": [
    {
     "output_type": "stream",
     "name": "stderr",
     "text": [
      "100%|██████████| 100/100 [00:00<00:00, 614.73it/s]\n",
      "100%|██████████| 100/100 [00:00<00:00, 639.37it/s]\n"
     ]
    }
   ],
   "source": [
    "train_events = exp.get_events('train', n=100)\n",
    "val_events = exp.get_events('val', n=100)"
   ]
  },
  {
   "cell_type": "code",
   "execution_count": 6,
   "metadata": {},
   "outputs": [],
   "source": [
    "bs = BaseStudy(exp)"
   ]
  },
  {
   "cell_type": "code",
   "execution_count": 7,
   "metadata": {},
   "outputs": [
    {
     "output_type": "stream",
     "name": "stderr",
     "text": [
      "100%|██████████| 5/5 [00:00<00:00, 562.10it/s]\n",
      "5it [00:23,  4.78s/it]\n",
      "100%|██████████| 5/5 [00:00<00:00, 495.99it/s]\n",
      "5it [00:22,  4.48s/it]\n"
     ]
    }
   ],
   "source": [
    "bs.qualitative_cluster_study()"
   ]
  },
  {
   "cell_type": "code",
   "execution_count": 8,
   "metadata": {},
   "outputs": [],
   "source": [
    "from sklearn.metrics import confusion_matrix\n",
    "import numpy as np"
   ]
  },
  {
   "cell_type": "code",
   "execution_count": 23,
   "metadata": {},
   "outputs": [
    {
     "output_type": "stream",
     "name": "stdout",
     "text": [
      "[[ 4869   406]\n [   18 12619]]\nacc = 0.9763287181777579\nP = 0.9688291746641075\nR = 0.9985756113001504\n"
     ]
    }
   ],
   "source": [
    "y_pred_train = np.concatenate([e.pred_class_labels for e in train_events])\n",
    "y_true_train = np.concatenate([e.input_event['hit'] for e in train_events])\n",
    "conf_mat = confusion_matrix(y_true_train, y_pred_train)\n",
    "tn, fp, fn, tp = conf_mat.ravel()\n",
    "print(conf_mat)\n",
    "print(f'acc = {(tn + tp) / (tn + fp + fn + tp)}')\n",
    "print(f'P = {(tp) / (tp + fp)}')\n",
    "print(f'R = {(tp) / (tp + fn)}')"
   ]
  },
  {
   "cell_type": "code",
   "execution_count": 24,
   "metadata": {},
   "outputs": [
    {
     "output_type": "stream",
     "name": "stdout",
     "text": [
      "[[ 4728   595]\n [  210 12012]]\nacc = 0.9541179823311485\nP = 0.9528039977790117\nR = 0.9828178694158075\n"
     ]
    }
   ],
   "source": [
    "y_pred_val = np.concatenate([e.pred_class_labels for e in val_events])\n",
    "y_true_val = np.concatenate([e.input_event['hit'] for e in val_events])\n",
    "conf_mat = confusion_matrix(y_true_val, y_pred_val)\n",
    "tn, fp, fn, tp = conf_mat.ravel()\n",
    "print(conf_mat)\n",
    "print(f'acc = {(tn + tp) / (tn + fp + fn + tp)}')\n",
    "print(f'P = {(tp) / (tp + fp)}')\n",
    "print(f'R = {(tp) / (tp + fn)}')"
   ]
  },
  {
   "cell_type": "code",
   "execution_count": null,
   "metadata": {},
   "outputs": [],
   "source": []
  }
 ]
}